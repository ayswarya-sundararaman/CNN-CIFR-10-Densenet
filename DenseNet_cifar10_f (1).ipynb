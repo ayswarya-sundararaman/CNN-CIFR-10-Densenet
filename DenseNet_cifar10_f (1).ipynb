{
 "cells": [
  {
   "cell_type": "code",
   "execution_count": 1,
   "metadata": {
    "id": "wVIx_KIigxPV"
   },
   "outputs": [],
   "source": [
    "# import keras\n",
    "# from keras.datasets import cifar10\n",
    "# from keras.models import Model, Sequential\n",
    "# from keras.layers import Dense, Dropout, Flatten, Input, AveragePooling2D, merge, Activation\n",
    "# from keras.layers import Conv2D, MaxPooling2D, BatchNormalization\n",
    "# from keras.layers import Concatenate\n",
    "# from keras.optimizers import Adam\n",
    "from tensorflow.keras import models, layers\n",
    "from tensorflow.keras.models import Model\n",
    "from tensorflow.keras.layers import BatchNormalization, Activation, Flatten\n",
    "from tensorflow.keras.optimizers import Adam"
   ]
  },
  {
   "cell_type": "code",
   "execution_count": 2,
   "metadata": {
    "colab": {
     "base_uri": "https://localhost:8080/"
    },
    "id": "kzq8uHNXzqMy",
    "outputId": "78586243-c523-4844-d0d0-38ded6c61298"
   },
   "outputs": [
    {
     "name": "stdout",
     "output_type": "stream",
     "text": [
      "Mounted at /content/drive\n"
     ]
    }
   ],
   "source": [
    "from google.colab import drive\n",
    "drive.mount('/content/drive')"
   ]
  },
  {
   "cell_type": "code",
   "execution_count": 3,
   "metadata": {
    "id": "2E8Mct3JCuvy"
   },
   "outputs": [],
   "source": [
    "from keras import backend as K\n",
    "import tensorflow as tf"
   ]
  },
  {
   "cell_type": "code",
   "execution_count": 4,
   "metadata": {
    "id": "D1vCef_pDUrX"
   },
   "outputs": [],
   "source": [
    "# ! pip install tensorflow"
   ]
  },
  {
   "cell_type": "code",
   "execution_count": 5,
   "metadata": {
    "colab": {
     "base_uri": "https://localhost:8080/"
    },
    "id": "-Hni_jcIC7a1",
    "outputId": "038129c0-cac2-4442-a87e-f02e825fb0fa"
   },
   "outputs": [
    {
     "name": "stdout",
     "output_type": "stream",
     "text": [
      "Device mapping:\n",
      "/job:localhost/replica:0/task:0/device:GPU:0 -> device: 0, name: Tesla T4, pci bus id: 0000:00:04.0, compute capability: 7.5\n",
      "\n"
     ]
    }
   ],
   "source": [
    "import keras\n",
    "config = tf.compat.v1.Session(config=tf.compat.v1.ConfigProto(log_device_placement=True,device_count = {'GPU': 1 , 'CPU': 56}) )\n",
    "keras.backend.set_session(config)"
   ]
  },
  {
   "cell_type": "code",
   "execution_count": 6,
   "metadata": {
    "id": "UNHw6luQg3gc"
   },
   "outputs": [],
   "source": [
    "# this part will prevent tensorflow to allocate all the avaliable GPU Memory\n",
    "# backend\n",
    "import tensorflow as tf"
   ]
  },
  {
   "cell_type": "code",
   "execution_count": 7,
   "metadata": {
    "id": "dsO_yGxcg5D8"
   },
   "outputs": [],
   "source": [
    "# Hyperparameters\n",
    "batch_size = 128\n",
    "num_classes = 10\n",
    "epochs = 10\n",
    "l = 40\n",
    "num_filter = 12\n",
    "compression = 0.5\n",
    "dropout_rate = 0.2"
   ]
  },
  {
   "cell_type": "code",
   "execution_count": 8,
   "metadata": {
    "colab": {
     "base_uri": "https://localhost:8080/"
    },
    "id": "mB7o3zu1g6eT",
    "outputId": "46eedf8b-a53d-48cc-d4dc-3338f76d4a48"
   },
   "outputs": [
    {
     "name": "stdout",
     "output_type": "stream",
     "text": [
      "Downloading data from https://www.cs.toronto.edu/~kriz/cifar-10-python.tar.gz\n",
      "170500096/170498071 [==============================] - 4s 0us/step\n"
     ]
    }
   ],
   "source": [
    "# Load CIFAR10 Data\n",
    "(X_train, y_train), (X_test, y_test) = tf.keras.datasets.cifar10.load_data()\n",
    "img_height, img_width, channel = X_train.shape[1],X_train.shape[2],X_train.shape[3]\n",
    "\n",
    "# convert to one hot encoing \n",
    "y_train = tf.keras.utils.to_categorical(y_train, num_classes)\n",
    "y_test = tf.keras.utils.to_categorical(y_test, num_classes) "
   ]
  },
  {
   "cell_type": "code",
   "execution_count": 9,
   "metadata": {
    "colab": {
     "base_uri": "https://localhost:8080/"
    },
    "id": "3lAk_Mw_5-rn",
    "outputId": "407b296c-da0d-4a43-cd9e-291dd337a3d6"
   },
   "outputs": [
    {
     "data": {
      "text/plain": [
       "(50000, 32, 32, 3)"
      ]
     },
     "execution_count": 9,
     "metadata": {
      "tags": []
     },
     "output_type": "execute_result"
    }
   ],
   "source": [
    "X_train.shape"
   ]
  },
  {
   "cell_type": "code",
   "execution_count": 10,
   "metadata": {
    "colab": {
     "base_uri": "https://localhost:8080/"
    },
    "id": "DVkpgHsc5-rp",
    "outputId": "90e51bc5-f429-4118-b6ef-3d561972a413"
   },
   "outputs": [
    {
     "data": {
      "text/plain": [
       "(10000, 32, 32, 3)"
      ]
     },
     "execution_count": 10,
     "metadata": {
      "tags": []
     },
     "output_type": "execute_result"
    }
   ],
   "source": [
    "X_test.shape"
   ]
  },
  {
   "cell_type": "code",
   "execution_count": 11,
   "metadata": {
    "id": "ee-sge5Kg7vr"
   },
   "outputs": [],
   "source": [
    "# Dense Block\n",
    "def denseblock(input, num_filter = 12, dropout_rate = 0.2):\n",
    "    global compression\n",
    "    temp = input\n",
    "    for _ in range(l): \n",
    "        BatchNorm = layers.BatchNormalization()(temp)\n",
    "        relu = layers.Activation('relu')(BatchNorm)\n",
    "        Conv2D_3_3 = layers.Conv2D(int(num_filter*compression), (3,3), use_bias=False ,padding='same')(relu)\n",
    "        if dropout_rate>0:\n",
    "            Conv2D_3_3 = layers.Dropout(dropout_rate)(Conv2D_3_3)\n",
    "        concat = layers.Concatenate(axis=-1)([temp,Conv2D_3_3])\n",
    "        \n",
    "        temp = concat\n",
    "        \n",
    "    return temp\n",
    "\n",
    "## transition Blosck\n",
    "def transition(input, num_filter = 12, dropout_rate = 0.2):\n",
    "    global compression\n",
    "    BatchNorm = layers.BatchNormalization()(input)\n",
    "    relu = layers.Activation('relu')(BatchNorm)\n",
    "    Conv2D_BottleNeck = layers.Conv2D(int(num_filter*compression), (1,1), use_bias=False ,padding='same')(relu)\n",
    "    if dropout_rate>0:\n",
    "         Conv2D_BottleNeck = layers.Dropout(dropout_rate)(Conv2D_BottleNeck)\n",
    "    avg = layers.AveragePooling2D(pool_size=(2,2))(Conv2D_BottleNeck)\n",
    "    return avg\n",
    "\n",
    "#output layer\n",
    "def output_layer(input):\n",
    "    global compression\n",
    "    BatchNorm = layers.BatchNormalization()(input)\n",
    "    relu = layers.Activation('relu')(BatchNorm)\n",
    "    AvgPooling = layers.AveragePooling2D(pool_size=(2,2))(relu)\n",
    "    flat = layers.Flatten()(AvgPooling)\n",
    "    output = layers.Dense(num_classes, activation='softmax')(flat)\n",
    "    return output"
   ]
  },
  {
   "cell_type": "code",
   "execution_count": 12,
   "metadata": {
    "id": "anPCpQWhhGb7"
   },
   "outputs": [],
   "source": [
    "num_filter = 12\n",
    "dropout_rate = 0.2\n",
    "l = 12\n",
    "input = layers.Input(shape=(img_height, img_width, channel,))\n",
    "First_Conv2D = layers.Conv2D(num_filter, (3,3), use_bias=False ,padding='same')(input)\n",
    "\n",
    "First_Block = denseblock(First_Conv2D, num_filter, dropout_rate)\n",
    "First_Transition = transition(First_Block, num_filter, dropout_rate)\n",
    "\n",
    "Second_Block = denseblock(First_Transition, num_filter, dropout_rate)\n",
    "Second_Transition = transition(Second_Block, num_filter, dropout_rate)\n",
    "\n",
    "Third_Block = denseblock(Second_Transition, num_filter, dropout_rate)\n",
    "Third_Transition = transition(Third_Block, num_filter, dropout_rate)\n",
    "\n",
    "Last_Block = denseblock(Third_Transition,  num_filter, dropout_rate)\n",
    "output = output_layer(Last_Block)"
   ]
  },
  {
   "cell_type": "code",
   "execution_count": null,
   "metadata": {
    "colab": {
     "base_uri": "https://localhost:8080/",
     "height": 320
    },
    "id": "c5Wksy8z5-rw",
    "outputId": "3317b814-f51c-4c30-bb64-2001a69caebc"
   },
   "outputs": [
    {
     "data": {
      "image/jpeg": "[encoded data removed]",
      "text/html": [
       "\n",
       "        <iframe\n",
       "            width=\"600\"\n",
       "            height=\"300\"\n",
       "            src=\"https://www.youtube.com/embed/-W6y8xnd--U\"\n",
       "            frameborder=\"0\"\n",
       "            allowfullscreen\n",
       "        ></iframe>\n",
       "        "
      ],
      "text/plain": [
       "<IPython.lib.display.YouTubeVideo at 0x7f8825345490>"
      ]
     },
     "execution_count": 9,
     "metadata": {
      "tags": []
     },
     "output_type": "execute_result"
    }
   ],
   "source": [
    "#https://arxiv.org/pdf/1608.06993.pdf\n",
    "from IPython.display import IFrame, YouTubeVideo\n",
    "YouTubeVideo(id='-W6y8xnd--U', width=600)"
   ]
  },
  {
   "cell_type": "code",
   "execution_count": 13,
   "metadata": {
    "colab": {
     "base_uri": "https://localhost:8080/"
    },
    "id": "1kFh7pdxhNtT",
    "outputId": "dcf3e477-edc0-46e1-b495-a8f9d5444ad4",
    "scrolled": true
   },
   "outputs": [
    {
     "name": "stdout",
     "output_type": "stream",
     "text": [
      "Model: \"model\"\n",
      "__________________________________________________________________________________________________\n",
      "Layer (type)                    Output Shape         Param #     Connected to                     \n",
      "==================================================================================================\n",
      "input_1 (InputLayer)            [(None, 32, 32, 3)]  0                                            \n",
      "__________________________________________________________________________________________________\n",
      "conv2d (Conv2D)                 (None, 32, 32, 12)   324         input_1[0][0]                    \n",
      "__________________________________________________________________________________________________\n",
      "batch_normalization (BatchNorma (None, 32, 32, 12)   48          conv2d[0][0]                     \n",
      "__________________________________________________________________________________________________\n",
      "activation (Activation)         (None, 32, 32, 12)   0           batch_normalization[0][0]        \n",
      "__________________________________________________________________________________________________\n",
      "conv2d_1 (Conv2D)               (None, 32, 32, 6)    648         activation[0][0]                 \n",
      "__________________________________________________________________________________________________\n",
      "dropout (Dropout)               (None, 32, 32, 6)    0           conv2d_1[0][0]                   \n",
      "__________________________________________________________________________________________________\n",
      "concatenate (Concatenate)       (None, 32, 32, 18)   0           conv2d[0][0]                     \n",
      "                                                                 dropout[0][0]                    \n",
      "__________________________________________________________________________________________________\n",
      "batch_normalization_1 (BatchNor (None, 32, 32, 18)   72          concatenate[0][0]                \n",
      "__________________________________________________________________________________________________\n",
      "activation_1 (Activation)       (None, 32, 32, 18)   0           batch_normalization_1[0][0]      \n",
      "__________________________________________________________________________________________________\n",
      "conv2d_2 (Conv2D)               (None, 32, 32, 6)    972         activation_1[0][0]               \n",
      "__________________________________________________________________________________________________\n",
      "dropout_1 (Dropout)             (None, 32, 32, 6)    0           conv2d_2[0][0]                   \n",
      "__________________________________________________________________________________________________\n",
      "concatenate_1 (Concatenate)     (None, 32, 32, 24)   0           concatenate[0][0]                \n",
      "                                                                 dropout_1[0][0]                  \n",
      "__________________________________________________________________________________________________\n",
      "batch_normalization_2 (BatchNor (None, 32, 32, 24)   96          concatenate_1[0][0]              \n",
      "__________________________________________________________________________________________________\n",
      "activation_2 (Activation)       (None, 32, 32, 24)   0           batch_normalization_2[0][0]      \n",
      "__________________________________________________________________________________________________\n",
      "conv2d_3 (Conv2D)               (None, 32, 32, 6)    1296        activation_2[0][0]               \n",
      "__________________________________________________________________________________________________\n",
      "dropout_2 (Dropout)             (None, 32, 32, 6)    0           conv2d_3[0][0]                   \n",
      "__________________________________________________________________________________________________\n",
      "concatenate_2 (Concatenate)     (None, 32, 32, 30)   0           concatenate_1[0][0]              \n",
      "                                                                 dropout_2[0][0]                  \n",
      "__________________________________________________________________________________________________\n",
      "batch_normalization_3 (BatchNor (None, 32, 32, 30)   120         concatenate_2[0][0]              \n",
      "__________________________________________________________________________________________________\n",
      "activation_3 (Activation)       (None, 32, 32, 30)   0           batch_normalization_3[0][0]      \n",
      "__________________________________________________________________________________________________\n",
      "conv2d_4 (Conv2D)               (None, 32, 32, 6)    1620        activation_3[0][0]               \n",
      "__________________________________________________________________________________________________\n",
      "dropout_3 (Dropout)             (None, 32, 32, 6)    0           conv2d_4[0][0]                   \n",
      "__________________________________________________________________________________________________\n",
      "concatenate_3 (Concatenate)     (None, 32, 32, 36)   0           concatenate_2[0][0]              \n",
      "                                                                 dropout_3[0][0]                  \n",
      "__________________________________________________________________________________________________\n",
      "batch_normalization_4 (BatchNor (None, 32, 32, 36)   144         concatenate_3[0][0]              \n",
      "__________________________________________________________________________________________________\n",
      "activation_4 (Activation)       (None, 32, 32, 36)   0           batch_normalization_4[0][0]      \n",
      "__________________________________________________________________________________________________\n",
      "conv2d_5 (Conv2D)               (None, 32, 32, 6)    1944        activation_4[0][0]               \n",
      "__________________________________________________________________________________________________\n",
      "dropout_4 (Dropout)             (None, 32, 32, 6)    0           conv2d_5[0][0]                   \n",
      "__________________________________________________________________________________________________\n",
      "concatenate_4 (Concatenate)     (None, 32, 32, 42)   0           concatenate_3[0][0]              \n",
      "                                                                 dropout_4[0][0]                  \n",
      "__________________________________________________________________________________________________\n",
      "batch_normalization_5 (BatchNor (None, 32, 32, 42)   168         concatenate_4[0][0]              \n",
      "__________________________________________________________________________________________________\n",
      "activation_5 (Activation)       (None, 32, 32, 42)   0           batch_normalization_5[0][0]      \n",
      "__________________________________________________________________________________________________\n",
      "conv2d_6 (Conv2D)               (None, 32, 32, 6)    2268        activation_5[0][0]               \n",
      "__________________________________________________________________________________________________\n",
      "dropout_5 (Dropout)             (None, 32, 32, 6)    0           conv2d_6[0][0]                   \n",
      "__________________________________________________________________________________________________\n",
      "concatenate_5 (Concatenate)     (None, 32, 32, 48)   0           concatenate_4[0][0]              \n",
      "                                                                 dropout_5[0][0]                  \n",
      "__________________________________________________________________________________________________\n",
      "batch_normalization_6 (BatchNor (None, 32, 32, 48)   192         concatenate_5[0][0]              \n",
      "__________________________________________________________________________________________________\n",
      "activation_6 (Activation)       (None, 32, 32, 48)   0           batch_normalization_6[0][0]      \n",
      "__________________________________________________________________________________________________\n",
      "conv2d_7 (Conv2D)               (None, 32, 32, 6)    2592        activation_6[0][0]               \n",
      "__________________________________________________________________________________________________\n",
      "dropout_6 (Dropout)             (None, 32, 32, 6)    0           conv2d_7[0][0]                   \n",
      "__________________________________________________________________________________________________\n",
      "concatenate_6 (Concatenate)     (None, 32, 32, 54)   0           concatenate_5[0][0]              \n",
      "                                                                 dropout_6[0][0]                  \n",
      "__________________________________________________________________________________________________\n",
      "batch_normalization_7 (BatchNor (None, 32, 32, 54)   216         concatenate_6[0][0]              \n",
      "__________________________________________________________________________________________________\n",
      "activation_7 (Activation)       (None, 32, 32, 54)   0           batch_normalization_7[0][0]      \n",
      "__________________________________________________________________________________________________\n",
      "conv2d_8 (Conv2D)               (None, 32, 32, 6)    2916        activation_7[0][0]               \n",
      "__________________________________________________________________________________________________\n",
      "dropout_7 (Dropout)             (None, 32, 32, 6)    0           conv2d_8[0][0]                   \n",
      "__________________________________________________________________________________________________\n",
      "concatenate_7 (Concatenate)     (None, 32, 32, 60)   0           concatenate_6[0][0]              \n",
      "                                                                 dropout_7[0][0]                  \n",
      "__________________________________________________________________________________________________\n",
      "batch_normalization_8 (BatchNor (None, 32, 32, 60)   240         concatenate_7[0][0]              \n",
      "__________________________________________________________________________________________________\n",
      "activation_8 (Activation)       (None, 32, 32, 60)   0           batch_normalization_8[0][0]      \n",
      "__________________________________________________________________________________________________\n",
      "conv2d_9 (Conv2D)               (None, 32, 32, 6)    3240        activation_8[0][0]               \n",
      "__________________________________________________________________________________________________\n",
      "dropout_8 (Dropout)             (None, 32, 32, 6)    0           conv2d_9[0][0]                   \n",
      "__________________________________________________________________________________________________\n",
      "concatenate_8 (Concatenate)     (None, 32, 32, 66)   0           concatenate_7[0][0]              \n",
      "                                                                 dropout_8[0][0]                  \n",
      "__________________________________________________________________________________________________\n",
      "batch_normalization_9 (BatchNor (None, 32, 32, 66)   264         concatenate_8[0][0]              \n",
      "__________________________________________________________________________________________________\n",
      "activation_9 (Activation)       (None, 32, 32, 66)   0           batch_normalization_9[0][0]      \n",
      "__________________________________________________________________________________________________\n",
      "conv2d_10 (Conv2D)              (None, 32, 32, 6)    3564        activation_9[0][0]               \n",
      "__________________________________________________________________________________________________\n",
      "dropout_9 (Dropout)             (None, 32, 32, 6)    0           conv2d_10[0][0]                  \n",
      "__________________________________________________________________________________________________\n",
      "concatenate_9 (Concatenate)     (None, 32, 32, 72)   0           concatenate_8[0][0]              \n",
      "                                                                 dropout_9[0][0]                  \n",
      "__________________________________________________________________________________________________\n",
      "batch_normalization_10 (BatchNo (None, 32, 32, 72)   288         concatenate_9[0][0]              \n",
      "__________________________________________________________________________________________________\n",
      "activation_10 (Activation)      (None, 32, 32, 72)   0           batch_normalization_10[0][0]     \n",
      "__________________________________________________________________________________________________\n",
      "conv2d_11 (Conv2D)              (None, 32, 32, 6)    3888        activation_10[0][0]              \n",
      "__________________________________________________________________________________________________\n",
      "dropout_10 (Dropout)            (None, 32, 32, 6)    0           conv2d_11[0][0]                  \n",
      "__________________________________________________________________________________________________\n",
      "concatenate_10 (Concatenate)    (None, 32, 32, 78)   0           concatenate_9[0][0]              \n",
      "                                                                 dropout_10[0][0]                 \n",
      "__________________________________________________________________________________________________\n",
      "batch_normalization_11 (BatchNo (None, 32, 32, 78)   312         concatenate_10[0][0]             \n",
      "__________________________________________________________________________________________________\n",
      "activation_11 (Activation)      (None, 32, 32, 78)   0           batch_normalization_11[0][0]     \n",
      "__________________________________________________________________________________________________\n",
      "conv2d_12 (Conv2D)              (None, 32, 32, 6)    4212        activation_11[0][0]              \n",
      "__________________________________________________________________________________________________\n",
      "dropout_11 (Dropout)            (None, 32, 32, 6)    0           conv2d_12[0][0]                  \n",
      "__________________________________________________________________________________________________\n",
      "concatenate_11 (Concatenate)    (None, 32, 32, 84)   0           concatenate_10[0][0]             \n",
      "                                                                 dropout_11[0][0]                 \n",
      "__________________________________________________________________________________________________\n",
      "batch_normalization_12 (BatchNo (None, 32, 32, 84)   336         concatenate_11[0][0]             \n",
      "__________________________________________________________________________________________________\n",
      "activation_12 (Activation)      (None, 32, 32, 84)   0           batch_normalization_12[0][0]     \n",
      "__________________________________________________________________________________________________\n",
      "conv2d_13 (Conv2D)              (None, 32, 32, 6)    504         activation_12[0][0]              \n",
      "__________________________________________________________________________________________________\n",
      "dropout_12 (Dropout)            (None, 32, 32, 6)    0           conv2d_13[0][0]                  \n",
      "__________________________________________________________________________________________________\n",
      "average_pooling2d (AveragePooli (None, 16, 16, 6)    0           dropout_12[0][0]                 \n",
      "__________________________________________________________________________________________________\n",
      "batch_normalization_13 (BatchNo (None, 16, 16, 6)    24          average_pooling2d[0][0]          \n",
      "__________________________________________________________________________________________________\n",
      "activation_13 (Activation)      (None, 16, 16, 6)    0           batch_normalization_13[0][0]     \n",
      "__________________________________________________________________________________________________\n",
      "conv2d_14 (Conv2D)              (None, 16, 16, 6)    324         activation_13[0][0]              \n",
      "__________________________________________________________________________________________________\n",
      "dropout_13 (Dropout)            (None, 16, 16, 6)    0           conv2d_14[0][0]                  \n",
      "__________________________________________________________________________________________________\n",
      "concatenate_12 (Concatenate)    (None, 16, 16, 12)   0           average_pooling2d[0][0]          \n",
      "                                                                 dropout_13[0][0]                 \n",
      "__________________________________________________________________________________________________\n",
      "batch_normalization_14 (BatchNo (None, 16, 16, 12)   48          concatenate_12[0][0]             \n",
      "__________________________________________________________________________________________________\n",
      "activation_14 (Activation)      (None, 16, 16, 12)   0           batch_normalization_14[0][0]     \n",
      "__________________________________________________________________________________________________\n",
      "conv2d_15 (Conv2D)              (None, 16, 16, 6)    648         activation_14[0][0]              \n",
      "__________________________________________________________________________________________________\n",
      "dropout_14 (Dropout)            (None, 16, 16, 6)    0           conv2d_15[0][0]                  \n",
      "__________________________________________________________________________________________________\n",
      "concatenate_13 (Concatenate)    (None, 16, 16, 18)   0           concatenate_12[0][0]             \n",
      "                                                                 dropout_14[0][0]                 \n",
      "__________________________________________________________________________________________________\n",
      "batch_normalization_15 (BatchNo (None, 16, 16, 18)   72          concatenate_13[0][0]             \n",
      "__________________________________________________________________________________________________\n",
      "activation_15 (Activation)      (None, 16, 16, 18)   0           batch_normalization_15[0][0]     \n",
      "__________________________________________________________________________________________________\n",
      "conv2d_16 (Conv2D)              (None, 16, 16, 6)    972         activation_15[0][0]              \n",
      "__________________________________________________________________________________________________\n",
      "dropout_15 (Dropout)            (None, 16, 16, 6)    0           conv2d_16[0][0]                  \n",
      "__________________________________________________________________________________________________\n",
      "concatenate_14 (Concatenate)    (None, 16, 16, 24)   0           concatenate_13[0][0]             \n",
      "                                                                 dropout_15[0][0]                 \n",
      "__________________________________________________________________________________________________\n",
      "batch_normalization_16 (BatchNo (None, 16, 16, 24)   96          concatenate_14[0][0]             \n",
      "__________________________________________________________________________________________________\n",
      "activation_16 (Activation)      (None, 16, 16, 24)   0           batch_normalization_16[0][0]     \n",
      "__________________________________________________________________________________________________\n",
      "conv2d_17 (Conv2D)              (None, 16, 16, 6)    1296        activation_16[0][0]              \n",
      "__________________________________________________________________________________________________\n",
      "dropout_16 (Dropout)            (None, 16, 16, 6)    0           conv2d_17[0][0]                  \n",
      "__________________________________________________________________________________________________\n",
      "concatenate_15 (Concatenate)    (None, 16, 16, 30)   0           concatenate_14[0][0]             \n",
      "                                                                 dropout_16[0][0]                 \n",
      "__________________________________________________________________________________________________\n",
      "batch_normalization_17 (BatchNo (None, 16, 16, 30)   120         concatenate_15[0][0]             \n",
      "__________________________________________________________________________________________________\n",
      "activation_17 (Activation)      (None, 16, 16, 30)   0           batch_normalization_17[0][0]     \n",
      "__________________________________________________________________________________________________\n",
      "conv2d_18 (Conv2D)              (None, 16, 16, 6)    1620        activation_17[0][0]              \n",
      "__________________________________________________________________________________________________\n",
      "dropout_17 (Dropout)            (None, 16, 16, 6)    0           conv2d_18[0][0]                  \n",
      "__________________________________________________________________________________________________\n",
      "concatenate_16 (Concatenate)    (None, 16, 16, 36)   0           concatenate_15[0][0]             \n",
      "                                                                 dropout_17[0][0]                 \n",
      "__________________________________________________________________________________________________\n",
      "batch_normalization_18 (BatchNo (None, 16, 16, 36)   144         concatenate_16[0][0]             \n",
      "__________________________________________________________________________________________________\n",
      "activation_18 (Activation)      (None, 16, 16, 36)   0           batch_normalization_18[0][0]     \n",
      "__________________________________________________________________________________________________\n",
      "conv2d_19 (Conv2D)              (None, 16, 16, 6)    1944        activation_18[0][0]              \n",
      "__________________________________________________________________________________________________\n",
      "dropout_18 (Dropout)            (None, 16, 16, 6)    0           conv2d_19[0][0]                  \n",
      "__________________________________________________________________________________________________\n",
      "concatenate_17 (Concatenate)    (None, 16, 16, 42)   0           concatenate_16[0][0]             \n",
      "                                                                 dropout_18[0][0]                 \n",
      "__________________________________________________________________________________________________\n",
      "batch_normalization_19 (BatchNo (None, 16, 16, 42)   168         concatenate_17[0][0]             \n",
      "__________________________________________________________________________________________________\n",
      "activation_19 (Activation)      (None, 16, 16, 42)   0           batch_normalization_19[0][0]     \n",
      "__________________________________________________________________________________________________\n",
      "conv2d_20 (Conv2D)              (None, 16, 16, 6)    2268        activation_19[0][0]              \n",
      "__________________________________________________________________________________________________\n",
      "dropout_19 (Dropout)            (None, 16, 16, 6)    0           conv2d_20[0][0]                  \n",
      "__________________________________________________________________________________________________\n",
      "concatenate_18 (Concatenate)    (None, 16, 16, 48)   0           concatenate_17[0][0]             \n",
      "                                                                 dropout_19[0][0]                 \n",
      "__________________________________________________________________________________________________\n",
      "batch_normalization_20 (BatchNo (None, 16, 16, 48)   192         concatenate_18[0][0]             \n",
      "__________________________________________________________________________________________________\n",
      "activation_20 (Activation)      (None, 16, 16, 48)   0           batch_normalization_20[0][0]     \n",
      "__________________________________________________________________________________________________\n",
      "conv2d_21 (Conv2D)              (None, 16, 16, 6)    2592        activation_20[0][0]              \n",
      "__________________________________________________________________________________________________\n",
      "dropout_20 (Dropout)            (None, 16, 16, 6)    0           conv2d_21[0][0]                  \n",
      "__________________________________________________________________________________________________\n",
      "concatenate_19 (Concatenate)    (None, 16, 16, 54)   0           concatenate_18[0][0]             \n",
      "                                                                 dropout_20[0][0]                 \n",
      "__________________________________________________________________________________________________\n",
      "batch_normalization_21 (BatchNo (None, 16, 16, 54)   216         concatenate_19[0][0]             \n",
      "__________________________________________________________________________________________________\n",
      "activation_21 (Activation)      (None, 16, 16, 54)   0           batch_normalization_21[0][0]     \n",
      "__________________________________________________________________________________________________\n",
      "conv2d_22 (Conv2D)              (None, 16, 16, 6)    2916        activation_21[0][0]              \n",
      "__________________________________________________________________________________________________\n",
      "dropout_21 (Dropout)            (None, 16, 16, 6)    0           conv2d_22[0][0]                  \n",
      "__________________________________________________________________________________________________\n",
      "concatenate_20 (Concatenate)    (None, 16, 16, 60)   0           concatenate_19[0][0]             \n",
      "                                                                 dropout_21[0][0]                 \n",
      "__________________________________________________________________________________________________\n",
      "batch_normalization_22 (BatchNo (None, 16, 16, 60)   240         concatenate_20[0][0]             \n",
      "__________________________________________________________________________________________________\n",
      "activation_22 (Activation)      (None, 16, 16, 60)   0           batch_normalization_22[0][0]     \n",
      "__________________________________________________________________________________________________\n",
      "conv2d_23 (Conv2D)              (None, 16, 16, 6)    3240        activation_22[0][0]              \n",
      "__________________________________________________________________________________________________\n",
      "dropout_22 (Dropout)            (None, 16, 16, 6)    0           conv2d_23[0][0]                  \n",
      "__________________________________________________________________________________________________\n",
      "concatenate_21 (Concatenate)    (None, 16, 16, 66)   0           concatenate_20[0][0]             \n",
      "                                                                 dropout_22[0][0]                 \n",
      "__________________________________________________________________________________________________\n",
      "batch_normalization_23 (BatchNo (None, 16, 16, 66)   264         concatenate_21[0][0]             \n",
      "__________________________________________________________________________________________________\n",
      "activation_23 (Activation)      (None, 16, 16, 66)   0           batch_normalization_23[0][0]     \n",
      "__________________________________________________________________________________________________\n",
      "conv2d_24 (Conv2D)              (None, 16, 16, 6)    3564        activation_23[0][0]              \n",
      "__________________________________________________________________________________________________\n",
      "dropout_23 (Dropout)            (None, 16, 16, 6)    0           conv2d_24[0][0]                  \n",
      "__________________________________________________________________________________________________\n",
      "concatenate_22 (Concatenate)    (None, 16, 16, 72)   0           concatenate_21[0][0]             \n",
      "                                                                 dropout_23[0][0]                 \n",
      "__________________________________________________________________________________________________\n",
      "batch_normalization_24 (BatchNo (None, 16, 16, 72)   288         concatenate_22[0][0]             \n",
      "__________________________________________________________________________________________________\n",
      "activation_24 (Activation)      (None, 16, 16, 72)   0           batch_normalization_24[0][0]     \n",
      "__________________________________________________________________________________________________\n",
      "conv2d_25 (Conv2D)              (None, 16, 16, 6)    3888        activation_24[0][0]              \n",
      "__________________________________________________________________________________________________\n",
      "dropout_24 (Dropout)            (None, 16, 16, 6)    0           conv2d_25[0][0]                  \n",
      "__________________________________________________________________________________________________\n",
      "concatenate_23 (Concatenate)    (None, 16, 16, 78)   0           concatenate_22[0][0]             \n",
      "                                                                 dropout_24[0][0]                 \n",
      "__________________________________________________________________________________________________\n",
      "batch_normalization_25 (BatchNo (None, 16, 16, 78)   312         concatenate_23[0][0]             \n",
      "__________________________________________________________________________________________________\n",
      "activation_25 (Activation)      (None, 16, 16, 78)   0           batch_normalization_25[0][0]     \n",
      "__________________________________________________________________________________________________\n",
      "conv2d_26 (Conv2D)              (None, 16, 16, 6)    468         activation_25[0][0]              \n",
      "__________________________________________________________________________________________________\n",
      "dropout_25 (Dropout)            (None, 16, 16, 6)    0           conv2d_26[0][0]                  \n",
      "__________________________________________________________________________________________________\n",
      "average_pooling2d_1 (AveragePoo (None, 8, 8, 6)      0           dropout_25[0][0]                 \n",
      "__________________________________________________________________________________________________\n",
      "batch_normalization_26 (BatchNo (None, 8, 8, 6)      24          average_pooling2d_1[0][0]        \n",
      "__________________________________________________________________________________________________\n",
      "activation_26 (Activation)      (None, 8, 8, 6)      0           batch_normalization_26[0][0]     \n",
      "__________________________________________________________________________________________________\n",
      "conv2d_27 (Conv2D)              (None, 8, 8, 6)      324         activation_26[0][0]              \n",
      "__________________________________________________________________________________________________\n",
      "dropout_26 (Dropout)            (None, 8, 8, 6)      0           conv2d_27[0][0]                  \n",
      "__________________________________________________________________________________________________\n",
      "concatenate_24 (Concatenate)    (None, 8, 8, 12)     0           average_pooling2d_1[0][0]        \n",
      "                                                                 dropout_26[0][0]                 \n",
      "__________________________________________________________________________________________________\n",
      "batch_normalization_27 (BatchNo (None, 8, 8, 12)     48          concatenate_24[0][0]             \n",
      "__________________________________________________________________________________________________\n",
      "activation_27 (Activation)      (None, 8, 8, 12)     0           batch_normalization_27[0][0]     \n",
      "__________________________________________________________________________________________________\n",
      "conv2d_28 (Conv2D)              (None, 8, 8, 6)      648         activation_27[0][0]              \n",
      "__________________________________________________________________________________________________\n",
      "dropout_27 (Dropout)            (None, 8, 8, 6)      0           conv2d_28[0][0]                  \n",
      "__________________________________________________________________________________________________\n",
      "concatenate_25 (Concatenate)    (None, 8, 8, 18)     0           concatenate_24[0][0]             \n",
      "                                                                 dropout_27[0][0]                 \n",
      "__________________________________________________________________________________________________\n",
      "batch_normalization_28 (BatchNo (None, 8, 8, 18)     72          concatenate_25[0][0]             \n",
      "__________________________________________________________________________________________________\n",
      "activation_28 (Activation)      (None, 8, 8, 18)     0           batch_normalization_28[0][0]     \n",
      "__________________________________________________________________________________________________\n",
      "conv2d_29 (Conv2D)              (None, 8, 8, 6)      972         activation_28[0][0]              \n",
      "__________________________________________________________________________________________________\n",
      "dropout_28 (Dropout)            (None, 8, 8, 6)      0           conv2d_29[0][0]                  \n",
      "__________________________________________________________________________________________________\n",
      "concatenate_26 (Concatenate)    (None, 8, 8, 24)     0           concatenate_25[0][0]             \n",
      "                                                                 dropout_28[0][0]                 \n",
      "__________________________________________________________________________________________________\n",
      "batch_normalization_29 (BatchNo (None, 8, 8, 24)     96          concatenate_26[0][0]             \n",
      "__________________________________________________________________________________________________\n",
      "activation_29 (Activation)      (None, 8, 8, 24)     0           batch_normalization_29[0][0]     \n",
      "__________________________________________________________________________________________________\n",
      "conv2d_30 (Conv2D)              (None, 8, 8, 6)      1296        activation_29[0][0]              \n",
      "__________________________________________________________________________________________________\n",
      "dropout_29 (Dropout)            (None, 8, 8, 6)      0           conv2d_30[0][0]                  \n",
      "__________________________________________________________________________________________________\n",
      "concatenate_27 (Concatenate)    (None, 8, 8, 30)     0           concatenate_26[0][0]             \n",
      "                                                                 dropout_29[0][0]                 \n",
      "__________________________________________________________________________________________________\n",
      "batch_normalization_30 (BatchNo (None, 8, 8, 30)     120         concatenate_27[0][0]             \n",
      "__________________________________________________________________________________________________\n",
      "activation_30 (Activation)      (None, 8, 8, 30)     0           batch_normalization_30[0][0]     \n",
      "__________________________________________________________________________________________________\n",
      "conv2d_31 (Conv2D)              (None, 8, 8, 6)      1620        activation_30[0][0]              \n",
      "__________________________________________________________________________________________________\n",
      "dropout_30 (Dropout)            (None, 8, 8, 6)      0           conv2d_31[0][0]                  \n",
      "__________________________________________________________________________________________________\n",
      "concatenate_28 (Concatenate)    (None, 8, 8, 36)     0           concatenate_27[0][0]             \n",
      "                                                                 dropout_30[0][0]                 \n",
      "__________________________________________________________________________________________________\n",
      "batch_normalization_31 (BatchNo (None, 8, 8, 36)     144         concatenate_28[0][0]             \n",
      "__________________________________________________________________________________________________\n",
      "activation_31 (Activation)      (None, 8, 8, 36)     0           batch_normalization_31[0][0]     \n",
      "__________________________________________________________________________________________________\n",
      "conv2d_32 (Conv2D)              (None, 8, 8, 6)      1944        activation_31[0][0]              \n",
      "__________________________________________________________________________________________________\n",
      "dropout_31 (Dropout)            (None, 8, 8, 6)      0           conv2d_32[0][0]                  \n",
      "__________________________________________________________________________________________________\n",
      "concatenate_29 (Concatenate)    (None, 8, 8, 42)     0           concatenate_28[0][0]             \n",
      "                                                                 dropout_31[0][0]                 \n",
      "__________________________________________________________________________________________________\n",
      "batch_normalization_32 (BatchNo (None, 8, 8, 42)     168         concatenate_29[0][0]             \n",
      "__________________________________________________________________________________________________\n",
      "activation_32 (Activation)      (None, 8, 8, 42)     0           batch_normalization_32[0][0]     \n",
      "__________________________________________________________________________________________________\n",
      "conv2d_33 (Conv2D)              (None, 8, 8, 6)      2268        activation_32[0][0]              \n",
      "__________________________________________________________________________________________________\n",
      "dropout_32 (Dropout)            (None, 8, 8, 6)      0           conv2d_33[0][0]                  \n",
      "__________________________________________________________________________________________________\n",
      "concatenate_30 (Concatenate)    (None, 8, 8, 48)     0           concatenate_29[0][0]             \n",
      "                                                                 dropout_32[0][0]                 \n",
      "__________________________________________________________________________________________________\n",
      "batch_normalization_33 (BatchNo (None, 8, 8, 48)     192         concatenate_30[0][0]             \n",
      "__________________________________________________________________________________________________\n",
      "activation_33 (Activation)      (None, 8, 8, 48)     0           batch_normalization_33[0][0]     \n",
      "__________________________________________________________________________________________________\n",
      "conv2d_34 (Conv2D)              (None, 8, 8, 6)      2592        activation_33[0][0]              \n",
      "__________________________________________________________________________________________________\n",
      "dropout_33 (Dropout)            (None, 8, 8, 6)      0           conv2d_34[0][0]                  \n",
      "__________________________________________________________________________________________________\n",
      "concatenate_31 (Concatenate)    (None, 8, 8, 54)     0           concatenate_30[0][0]             \n",
      "                                                                 dropout_33[0][0]                 \n",
      "__________________________________________________________________________________________________\n",
      "batch_normalization_34 (BatchNo (None, 8, 8, 54)     216         concatenate_31[0][0]             \n",
      "__________________________________________________________________________________________________\n",
      "activation_34 (Activation)      (None, 8, 8, 54)     0           batch_normalization_34[0][0]     \n",
      "__________________________________________________________________________________________________\n",
      "conv2d_35 (Conv2D)              (None, 8, 8, 6)      2916        activation_34[0][0]              \n",
      "__________________________________________________________________________________________________\n",
      "dropout_34 (Dropout)            (None, 8, 8, 6)      0           conv2d_35[0][0]                  \n",
      "__________________________________________________________________________________________________\n",
      "concatenate_32 (Concatenate)    (None, 8, 8, 60)     0           concatenate_31[0][0]             \n",
      "                                                                 dropout_34[0][0]                 \n",
      "__________________________________________________________________________________________________\n",
      "batch_normalization_35 (BatchNo (None, 8, 8, 60)     240         concatenate_32[0][0]             \n",
      "__________________________________________________________________________________________________\n",
      "activation_35 (Activation)      (None, 8, 8, 60)     0           batch_normalization_35[0][0]     \n",
      "__________________________________________________________________________________________________\n",
      "conv2d_36 (Conv2D)              (None, 8, 8, 6)      3240        activation_35[0][0]              \n",
      "__________________________________________________________________________________________________\n",
      "dropout_35 (Dropout)            (None, 8, 8, 6)      0           conv2d_36[0][0]                  \n",
      "__________________________________________________________________________________________________\n",
      "concatenate_33 (Concatenate)    (None, 8, 8, 66)     0           concatenate_32[0][0]             \n",
      "                                                                 dropout_35[0][0]                 \n",
      "__________________________________________________________________________________________________\n",
      "batch_normalization_36 (BatchNo (None, 8, 8, 66)     264         concatenate_33[0][0]             \n",
      "__________________________________________________________________________________________________\n",
      "activation_36 (Activation)      (None, 8, 8, 66)     0           batch_normalization_36[0][0]     \n",
      "__________________________________________________________________________________________________\n",
      "conv2d_37 (Conv2D)              (None, 8, 8, 6)      3564        activation_36[0][0]              \n",
      "__________________________________________________________________________________________________\n",
      "dropout_36 (Dropout)            (None, 8, 8, 6)      0           conv2d_37[0][0]                  \n",
      "__________________________________________________________________________________________________\n",
      "concatenate_34 (Concatenate)    (None, 8, 8, 72)     0           concatenate_33[0][0]             \n",
      "                                                                 dropout_36[0][0]                 \n",
      "__________________________________________________________________________________________________\n",
      "batch_normalization_37 (BatchNo (None, 8, 8, 72)     288         concatenate_34[0][0]             \n",
      "__________________________________________________________________________________________________\n",
      "activation_37 (Activation)      (None, 8, 8, 72)     0           batch_normalization_37[0][0]     \n",
      "__________________________________________________________________________________________________\n",
      "conv2d_38 (Conv2D)              (None, 8, 8, 6)      3888        activation_37[0][0]              \n",
      "__________________________________________________________________________________________________\n",
      "dropout_37 (Dropout)            (None, 8, 8, 6)      0           conv2d_38[0][0]                  \n",
      "__________________________________________________________________________________________________\n",
      "concatenate_35 (Concatenate)    (None, 8, 8, 78)     0           concatenate_34[0][0]             \n",
      "                                                                 dropout_37[0][0]                 \n",
      "__________________________________________________________________________________________________\n",
      "batch_normalization_38 (BatchNo (None, 8, 8, 78)     312         concatenate_35[0][0]             \n",
      "__________________________________________________________________________________________________\n",
      "activation_38 (Activation)      (None, 8, 8, 78)     0           batch_normalization_38[0][0]     \n",
      "__________________________________________________________________________________________________\n",
      "conv2d_39 (Conv2D)              (None, 8, 8, 6)      468         activation_38[0][0]              \n",
      "__________________________________________________________________________________________________\n",
      "dropout_38 (Dropout)            (None, 8, 8, 6)      0           conv2d_39[0][0]                  \n",
      "__________________________________________________________________________________________________\n",
      "average_pooling2d_2 (AveragePoo (None, 4, 4, 6)      0           dropout_38[0][0]                 \n",
      "__________________________________________________________________________________________________\n",
      "batch_normalization_39 (BatchNo (None, 4, 4, 6)      24          average_pooling2d_2[0][0]        \n",
      "__________________________________________________________________________________________________\n",
      "activation_39 (Activation)      (None, 4, 4, 6)      0           batch_normalization_39[0][0]     \n",
      "__________________________________________________________________________________________________\n",
      "conv2d_40 (Conv2D)              (None, 4, 4, 6)      324         activation_39[0][0]              \n",
      "__________________________________________________________________________________________________\n",
      "dropout_39 (Dropout)            (None, 4, 4, 6)      0           conv2d_40[0][0]                  \n",
      "__________________________________________________________________________________________________\n",
      "concatenate_36 (Concatenate)    (None, 4, 4, 12)     0           average_pooling2d_2[0][0]        \n",
      "                                                                 dropout_39[0][0]                 \n",
      "__________________________________________________________________________________________________\n",
      "batch_normalization_40 (BatchNo (None, 4, 4, 12)     48          concatenate_36[0][0]             \n",
      "__________________________________________________________________________________________________\n",
      "activation_40 (Activation)      (None, 4, 4, 12)     0           batch_normalization_40[0][0]     \n",
      "__________________________________________________________________________________________________\n",
      "conv2d_41 (Conv2D)              (None, 4, 4, 6)      648         activation_40[0][0]              \n",
      "__________________________________________________________________________________________________\n",
      "dropout_40 (Dropout)            (None, 4, 4, 6)      0           conv2d_41[0][0]                  \n",
      "__________________________________________________________________________________________________\n",
      "concatenate_37 (Concatenate)    (None, 4, 4, 18)     0           concatenate_36[0][0]             \n",
      "                                                                 dropout_40[0][0]                 \n",
      "__________________________________________________________________________________________________\n",
      "batch_normalization_41 (BatchNo (None, 4, 4, 18)     72          concatenate_37[0][0]             \n",
      "__________________________________________________________________________________________________\n",
      "activation_41 (Activation)      (None, 4, 4, 18)     0           batch_normalization_41[0][0]     \n",
      "__________________________________________________________________________________________________\n",
      "conv2d_42 (Conv2D)              (None, 4, 4, 6)      972         activation_41[0][0]              \n",
      "__________________________________________________________________________________________________\n",
      "dropout_41 (Dropout)            (None, 4, 4, 6)      0           conv2d_42[0][0]                  \n",
      "__________________________________________________________________________________________________\n",
      "concatenate_38 (Concatenate)    (None, 4, 4, 24)     0           concatenate_37[0][0]             \n",
      "                                                                 dropout_41[0][0]                 \n",
      "__________________________________________________________________________________________________\n",
      "batch_normalization_42 (BatchNo (None, 4, 4, 24)     96          concatenate_38[0][0]             \n",
      "__________________________________________________________________________________________________\n",
      "activation_42 (Activation)      (None, 4, 4, 24)     0           batch_normalization_42[0][0]     \n",
      "__________________________________________________________________________________________________\n",
      "conv2d_43 (Conv2D)              (None, 4, 4, 6)      1296        activation_42[0][0]              \n",
      "__________________________________________________________________________________________________\n",
      "dropout_42 (Dropout)            (None, 4, 4, 6)      0           conv2d_43[0][0]                  \n",
      "__________________________________________________________________________________________________\n",
      "concatenate_39 (Concatenate)    (None, 4, 4, 30)     0           concatenate_38[0][0]             \n",
      "                                                                 dropout_42[0][0]                 \n",
      "__________________________________________________________________________________________________\n",
      "batch_normalization_43 (BatchNo (None, 4, 4, 30)     120         concatenate_39[0][0]             \n",
      "__________________________________________________________________________________________________\n",
      "activation_43 (Activation)      (None, 4, 4, 30)     0           batch_normalization_43[0][0]     \n",
      "__________________________________________________________________________________________________\n",
      "conv2d_44 (Conv2D)              (None, 4, 4, 6)      1620        activation_43[0][0]              \n",
      "__________________________________________________________________________________________________\n",
      "dropout_43 (Dropout)            (None, 4, 4, 6)      0           conv2d_44[0][0]                  \n",
      "__________________________________________________________________________________________________\n",
      "concatenate_40 (Concatenate)    (None, 4, 4, 36)     0           concatenate_39[0][0]             \n",
      "                                                                 dropout_43[0][0]                 \n",
      "__________________________________________________________________________________________________\n",
      "batch_normalization_44 (BatchNo (None, 4, 4, 36)     144         concatenate_40[0][0]             \n",
      "__________________________________________________________________________________________________\n",
      "activation_44 (Activation)      (None, 4, 4, 36)     0           batch_normalization_44[0][0]     \n",
      "__________________________________________________________________________________________________\n",
      "conv2d_45 (Conv2D)              (None, 4, 4, 6)      1944        activation_44[0][0]              \n",
      "__________________________________________________________________________________________________\n",
      "dropout_44 (Dropout)            (None, 4, 4, 6)      0           conv2d_45[0][0]                  \n",
      "__________________________________________________________________________________________________\n",
      "concatenate_41 (Concatenate)    (None, 4, 4, 42)     0           concatenate_40[0][0]             \n",
      "                                                                 dropout_44[0][0]                 \n",
      "__________________________________________________________________________________________________\n",
      "batch_normalization_45 (BatchNo (None, 4, 4, 42)     168         concatenate_41[0][0]             \n",
      "__________________________________________________________________________________________________\n",
      "activation_45 (Activation)      (None, 4, 4, 42)     0           batch_normalization_45[0][0]     \n",
      "__________________________________________________________________________________________________\n",
      "conv2d_46 (Conv2D)              (None, 4, 4, 6)      2268        activation_45[0][0]              \n",
      "__________________________________________________________________________________________________\n",
      "dropout_45 (Dropout)            (None, 4, 4, 6)      0           conv2d_46[0][0]                  \n",
      "__________________________________________________________________________________________________\n",
      "concatenate_42 (Concatenate)    (None, 4, 4, 48)     0           concatenate_41[0][0]             \n",
      "                                                                 dropout_45[0][0]                 \n",
      "__________________________________________________________________________________________________\n",
      "batch_normalization_46 (BatchNo (None, 4, 4, 48)     192         concatenate_42[0][0]             \n",
      "__________________________________________________________________________________________________\n",
      "activation_46 (Activation)      (None, 4, 4, 48)     0           batch_normalization_46[0][0]     \n",
      "__________________________________________________________________________________________________\n",
      "conv2d_47 (Conv2D)              (None, 4, 4, 6)      2592        activation_46[0][0]              \n",
      "__________________________________________________________________________________________________\n",
      "dropout_46 (Dropout)            (None, 4, 4, 6)      0           conv2d_47[0][0]                  \n",
      "__________________________________________________________________________________________________\n",
      "concatenate_43 (Concatenate)    (None, 4, 4, 54)     0           concatenate_42[0][0]             \n",
      "                                                                 dropout_46[0][0]                 \n",
      "__________________________________________________________________________________________________\n",
      "batch_normalization_47 (BatchNo (None, 4, 4, 54)     216         concatenate_43[0][0]             \n",
      "__________________________________________________________________________________________________\n",
      "activation_47 (Activation)      (None, 4, 4, 54)     0           batch_normalization_47[0][0]     \n",
      "__________________________________________________________________________________________________\n",
      "conv2d_48 (Conv2D)              (None, 4, 4, 6)      2916        activation_47[0][0]              \n",
      "__________________________________________________________________________________________________\n",
      "dropout_47 (Dropout)            (None, 4, 4, 6)      0           conv2d_48[0][0]                  \n",
      "__________________________________________________________________________________________________\n",
      "concatenate_44 (Concatenate)    (None, 4, 4, 60)     0           concatenate_43[0][0]             \n",
      "                                                                 dropout_47[0][0]                 \n",
      "__________________________________________________________________________________________________\n",
      "batch_normalization_48 (BatchNo (None, 4, 4, 60)     240         concatenate_44[0][0]             \n",
      "__________________________________________________________________________________________________\n",
      "activation_48 (Activation)      (None, 4, 4, 60)     0           batch_normalization_48[0][0]     \n",
      "__________________________________________________________________________________________________\n",
      "conv2d_49 (Conv2D)              (None, 4, 4, 6)      3240        activation_48[0][0]              \n",
      "__________________________________________________________________________________________________\n",
      "dropout_48 (Dropout)            (None, 4, 4, 6)      0           conv2d_49[0][0]                  \n",
      "__________________________________________________________________________________________________\n",
      "concatenate_45 (Concatenate)    (None, 4, 4, 66)     0           concatenate_44[0][0]             \n",
      "                                                                 dropout_48[0][0]                 \n",
      "__________________________________________________________________________________________________\n",
      "batch_normalization_49 (BatchNo (None, 4, 4, 66)     264         concatenate_45[0][0]             \n",
      "__________________________________________________________________________________________________\n",
      "activation_49 (Activation)      (None, 4, 4, 66)     0           batch_normalization_49[0][0]     \n",
      "__________________________________________________________________________________________________\n",
      "conv2d_50 (Conv2D)              (None, 4, 4, 6)      3564        activation_49[0][0]              \n",
      "__________________________________________________________________________________________________\n",
      "dropout_49 (Dropout)            (None, 4, 4, 6)      0           conv2d_50[0][0]                  \n",
      "__________________________________________________________________________________________________\n",
      "concatenate_46 (Concatenate)    (None, 4, 4, 72)     0           concatenate_45[0][0]             \n",
      "                                                                 dropout_49[0][0]                 \n",
      "__________________________________________________________________________________________________\n",
      "batch_normalization_50 (BatchNo (None, 4, 4, 72)     288         concatenate_46[0][0]             \n",
      "__________________________________________________________________________________________________\n",
      "activation_50 (Activation)      (None, 4, 4, 72)     0           batch_normalization_50[0][0]     \n",
      "__________________________________________________________________________________________________\n",
      "conv2d_51 (Conv2D)              (None, 4, 4, 6)      3888        activation_50[0][0]              \n",
      "__________________________________________________________________________________________________\n",
      "dropout_50 (Dropout)            (None, 4, 4, 6)      0           conv2d_51[0][0]                  \n",
      "__________________________________________________________________________________________________\n",
      "concatenate_47 (Concatenate)    (None, 4, 4, 78)     0           concatenate_46[0][0]             \n",
      "                                                                 dropout_50[0][0]                 \n",
      "__________________________________________________________________________________________________\n",
      "batch_normalization_51 (BatchNo (None, 4, 4, 78)     312         concatenate_47[0][0]             \n",
      "__________________________________________________________________________________________________\n",
      "activation_51 (Activation)      (None, 4, 4, 78)     0           batch_normalization_51[0][0]     \n",
      "__________________________________________________________________________________________________\n",
      "average_pooling2d_3 (AveragePoo (None, 2, 2, 78)     0           activation_51[0][0]              \n",
      "__________________________________________________________________________________________________\n",
      "flatten (Flatten)               (None, 312)          0           average_pooling2d_3[0][0]        \n",
      "__________________________________________________________________________________________________\n",
      "dense (Dense)                   (None, 10)           3130        flatten[0][0]                    \n",
      "==================================================================================================\n",
      "Total params: 118,918\n",
      "Trainable params: 114,394\n",
      "Non-trainable params: 4,524\n",
      "__________________________________________________________________________________________________\n"
     ]
    }
   ],
   "source": [
    "model = Model(inputs=[input], outputs=[output])\n",
    "model.summary()"
   ]
  },
  {
   "cell_type": "code",
   "execution_count": null,
   "metadata": {
    "colab": {
     "base_uri": "https://localhost:8080/"
    },
    "id": "8Aqzk9AFXb1y",
    "outputId": "c6a31664-ac1b-4e69-e8c8-ef527909fe0d"
   },
   "outputs": [
    {
     "name": "stdout",
     "output_type": "stream",
     "text": [
      "262\n"
     ]
    }
   ],
   "source": [
    "print(len(model.layers))"
   ]
  },
  {
   "cell_type": "code",
   "execution_count": null,
   "metadata": {
    "id": "b4XOsW3ahSkL"
   },
   "outputs": [],
   "source": [
    "# determine Loss function and Optimizer\n",
    "model.compile(loss='categorical_crossentropy',\n",
    "              optimizer=Adam(),\n",
    "              metrics=['accuracy'])"
   ]
  },
  {
   "cell_type": "code",
   "execution_count": null,
   "metadata": {
    "colab": {
     "base_uri": "https://localhost:8080/"
    },
    "id": "crhGk7kEhXAz",
    "outputId": "8854afa3-7708-4b92-ff8e-839c2e2ab860",
    "scrolled": false
   },
   "outputs": [
    {
     "name": "stdout",
     "output_type": "stream",
     "text": [
      "Epoch 1/10\n",
      "391/391 [==============================] - 78s 102ms/step - loss: 1.7187 - accuracy: 0.3524 - val_loss: 1.6062 - val_accuracy: 0.4232\n",
      "Epoch 2/10\n",
      "391/391 [==============================] - 37s 94ms/step - loss: 1.3829 - accuracy: 0.4883 - val_loss: 1.3495 - val_accuracy: 0.5169\n",
      "Epoch 3/10\n",
      "391/391 [==============================] - 38s 96ms/step - loss: 1.2379 - accuracy: 0.5463 - val_loss: 1.1956 - val_accuracy: 0.5768\n",
      "Epoch 4/10\n",
      "391/391 [==============================] - 38s 97ms/step - loss: 1.1237 - accuracy: 0.5931 - val_loss: 1.2230 - val_accuracy: 0.5891\n",
      "Epoch 5/10\n",
      "391/391 [==============================] - 38s 97ms/step - loss: 1.0488 - accuracy: 0.6229 - val_loss: 1.5108 - val_accuracy: 0.5358\n",
      "Epoch 6/10\n",
      "391/391 [==============================] - 38s 97ms/step - loss: 0.9915 - accuracy: 0.6443 - val_loss: 1.0291 - val_accuracy: 0.6479\n",
      "Epoch 7/10\n",
      "391/391 [==============================] - 38s 97ms/step - loss: 0.9515 - accuracy: 0.6586 - val_loss: 1.1797 - val_accuracy: 0.6007\n",
      "Epoch 8/10\n",
      "391/391 [==============================] - 38s 97ms/step - loss: 0.9201 - accuracy: 0.6681 - val_loss: 1.0407 - val_accuracy: 0.6418\n",
      "Epoch 9/10\n",
      "391/391 [==============================] - 38s 97ms/step - loss: 0.8911 - accuracy: 0.6808 - val_loss: 0.9578 - val_accuracy: 0.6730\n",
      "Epoch 10/10\n",
      "391/391 [==============================] - 38s 97ms/step - loss: 0.8642 - accuracy: 0.6904 - val_loss: 0.9221 - val_accuracy: 0.6791\n"
     ]
    },
    {
     "data": {
      "text/plain": [
       "<tensorflow.python.keras.callbacks.History at 0x7f879036de10>"
      ]
     },
     "execution_count": 13,
     "metadata": {
      "tags": []
     },
     "output_type": "execute_result"
    }
   ],
   "source": [
    "model.fit(X_train, y_train,\n",
    "                    batch_size=batch_size,\n",
    "                    epochs=epochs,\n",
    "                    verbose=1, \n",
    "                    validation_data=(X_test, y_test))"
   ]
  },
  {
   "cell_type": "code",
   "execution_count": null,
   "metadata": {
    "colab": {
     "base_uri": "https://localhost:8080/"
    },
    "id": "ZcWydmIVhZGr",
    "outputId": "7a039274-3d04-44e1-f77c-46585a1a90b5"
   },
   "outputs": [
    {
     "name": "stdout",
     "output_type": "stream",
     "text": [
      "313/313 [==============================] - 3s 8ms/step - loss: 0.9221 - accuracy: 0.6791\n",
      "Test loss: 0.9220625758171082\n",
      "Test accuracy: 0.679099977016449\n"
     ]
    }
   ],
   "source": [
    "# Test the model\n",
    "score = model.evaluate(X_test, y_test, verbose=1)\n",
    "print('Test loss:', score[0])\n",
    "print('Test accuracy:', score[1])"
   ]
  },
  {
   "cell_type": "code",
   "execution_count": null,
   "metadata": {
    "colab": {
     "base_uri": "https://localhost:8080/"
    },
    "id": "UE3lF6EH1r_L",
    "outputId": "e3d6be96-b947-4eac-8256-693f83b65af3"
   },
   "outputs": [
    {
     "name": "stdout",
     "output_type": "stream",
     "text": [
      "Saved model to disk\n"
     ]
    }
   ],
   "source": [
    "# Save the trained weights in to .h5 format\n",
    "model.save_weights(\"DNST_model.h5\")\n",
    "print(\"Saved model to disk\")"
   ]
  },
  {
   "cell_type": "code",
   "execution_count": null,
   "metadata": {
    "id": "XySE6cmFwfSt"
   },
   "outputs": [],
   "source": [
    "del model"
   ]
  },
  {
   "cell_type": "markdown",
   "metadata": {
    "id": "kK3alCdFflQX"
   },
   "source": [
    "### CNN on CIFR Assignment:"
   ]
  },
  {
   "cell_type": "markdown",
   "metadata": {
    "id": "cHCYMwwXflQd"
   },
   "source": [
    "1.  Please visit this link to access the state-of-art DenseNet code for reference - DenseNet - cifar10 notebook link\n",
    "2.  You need to create a copy of this and \"retrain\" this model to achieve 90+ test accuracy. \n",
    "3.  You cannot use DropOut layers.\n",
    "4.  You MUST use Image Augmentation Techniques.\n",
    "5.  You cannot use an already trained model as a beginning points, you have to initilize as your own\n",
    "6.  You cannot run the program for more than 300 Epochs, and it should be clear from your log, that you have only used 300 Epochs\n",
    "7.  You cannot use test images for training the model.\n",
    "8.  You cannot change the general architecture of DenseNet (which means you must use Dense Block, Transition and Output blocks as mentioned in the code)\n",
    "9.  You are free to change Convolution types (e.g. from 3x3 normal convolution to Depthwise Separable, etc)\n",
    "10. You cannot have more than 1 Million parameters in total\n",
    "11. You are free to move the code from Keras to Tensorflow, Pytorch, MXNET etc. \n",
    "12. You can use any optimization algorithm you need. \n",
    "13. You can checkpoint your model and retrain the model from that checkpoint so that no need of training the model from first if you lost at any epoch while training. You can directly load that model and Train from that epoch. "
   ]
  },
  {
   "cell_type": "code",
   "execution_count": 14,
   "metadata": {
    "id": "TU-hUplhPum0"
   },
   "outputs": [],
   "source": [
    "import matplotlib.pyplot as plt\n",
    "import numpy as np"
   ]
  },
  {
   "cell_type": "code",
   "execution_count": 15,
   "metadata": {
    "id": "HmiwPyf2we94"
   },
   "outputs": [],
   "source": [
    "# Load CIFAR10 Data\n",
    "(X_train, y_train), (X_test, y_test) = tf.keras.datasets.cifar10.load_data()\n",
    "img_height, img_width, channel = X_train.shape[1],X_train.shape[2],X_train.shape[3]"
   ]
  },
  {
   "cell_type": "code",
   "execution_count": 16,
   "metadata": {
    "colab": {
     "base_uri": "https://localhost:8080/",
     "height": 122
    },
    "id": "Xwz6TgJWRqgH",
    "outputId": "a4fd6b13-c47e-4701-b926-55fec950685a"
   },
   "outputs": [
    {
     "data": {
      "image/png": "[encoded data removed]",
      "text/plain": [
       "<Figure size 1440x792 with 10 Axes>"
      ]
     },
     "metadata": {
      "needs_background": "light",
      "tags": []
     },
     "output_type": "display_data"
    }
   ],
   "source": [
    "## visualizing the classes\n",
    "fig = plt.figure(figsize=(20,11))\n",
    "classes = ['airplane','automobile','peacock','cat','deer','dog','frog','horse','ship','truck']\n",
    "for i in range(10):\n",
    "      plt.subplot(1,10,i+1)\n",
    "      plt.imshow(X_train[np.where(y_train==i)[0][0]])\n",
    "      plt.title(classes[i])"
   ]
  },
  {
   "cell_type": "code",
   "execution_count": 17,
   "metadata": {
    "id": "B-MKeG-rMXgV"
   },
   "outputs": [],
   "source": [
    "#### scale the pixels\n",
    "## https://machinelearningmastery.com/how-to-develop-a-cnn-from-scratch-for-cifar-10-photo-classification/\n",
    "# scale pixels\n",
    "def scale_pixels(train, test):\n",
    "\t# convert from integers to floats\n",
    "\ttrain_norm = train.astype('float32')\n",
    "\ttest_norm = test.astype('float32')\n",
    "\t# normalize to range 0-1\n",
    "\ttrain_norm = train_norm / 255\n",
    "\ttest_norm = test_norm / 255\n",
    "\t# return normalized images\n",
    "\treturn train_norm, test_norm"
   ]
  },
  {
   "cell_type": "code",
   "execution_count": 18,
   "metadata": {
    "id": "XSqjvwywWB_f"
   },
   "outputs": [],
   "source": [
    "X_train,X_test = scale_pixels(X_train,X_test)"
   ]
  },
  {
   "cell_type": "code",
   "execution_count": 19,
   "metadata": {
    "id": "lafdmx6nWNmH"
   },
   "outputs": [],
   "source": [
    "# convert to one hot encoding \n",
    "y_train = tf.keras.utils.to_categorical(y_train, num_classes)\n",
    "y_test = tf.keras.utils.to_categorical(y_test, num_classes) "
   ]
  },
  {
   "cell_type": "markdown",
   "metadata": {
    "id": "ut_LXAOHZqfv"
   },
   "source": [
    "### let's change the  dropout_rate to 0,alter strides to (5,5) and number of filters"
   ]
  },
  {
   "cell_type": "code",
   "execution_count": 20,
   "metadata": {
    "id": "_tbUUuf3ZeMl"
   },
   "outputs": [],
   "source": [
    "# Dense Block\n",
    "def denseblock(input, num_filter = 12, dropout_rate = 0):\n",
    "    global compression\n",
    "    temp = input\n",
    "    for _ in range(l): \n",
    "        BatchNorm = layers.BatchNormalization()(temp)\n",
    "        relu = layers.Activation('relu')(BatchNorm)\n",
    "        Conv2D_5_5 = layers.Conv2D(int(num_filter*compression), (5,5),kernel_initializer='he_uniform' ,use_bias=False ,padding='same')(relu)\n",
    "        if dropout_rate>0:\n",
    "            Conv2D_5_5 = layers.Dropout(dropout_rate)(Conv2D_5_5)\n",
    "        concat = layers.Concatenate(axis=-1)([temp,Conv2D_5_5])\n",
    "        \n",
    "        temp = concat\n",
    "        \n",
    "    return temp\n",
    "\n",
    "## transition Blosck\n",
    "def transition(input, num_filter = 12, dropout_rate = 0):\n",
    "    global compression\n",
    "    BatchNorm = layers.BatchNormalization()(input)\n",
    "    relu = layers.Activation('relu')(BatchNorm)\n",
    "    Conv2D_BottleNeck = layers.Conv2D(int(num_filter*compression),(5,5),kernel_initializer='he_uniform' ,use_bias=False ,padding='same')(relu)\n",
    "    if dropout_rate>0:\n",
    "         Conv2D_BottleNeck = layers.Dropout(dropout_rate)(Conv2D_BottleNeck)\n",
    "    avg = layers.AveragePooling2D(pool_size=(2,2))(Conv2D_BottleNeck)\n",
    "    return avg\n",
    "\n",
    "#output layer\n",
    "def output_layer(input):\n",
    "    global compression\n",
    "    BatchNorm = layers.BatchNormalization()(input)\n",
    "    relu = layers.Activation('relu')(BatchNorm)\n",
    "    AvgPooling = layers.AveragePooling2D(pool_size=(2,2))(relu)\n",
    "    flat = layers.Flatten()(AvgPooling)\n",
    "    output = layers.Dense(num_classes, activation='softmax')(flat)\n",
    "    return output"
   ]
  },
  {
   "cell_type": "code",
   "execution_count": 21,
   "metadata": {
    "id": "_gQ_v-S4nbQ6"
   },
   "outputs": [],
   "source": [
    "num_filter = 10\n",
    "dropout_rate = 0\n",
    "l = 12\n",
    "input = layers.Input(shape=(img_height, img_width, channel))\n",
    "First_Conv2D = layers.Conv2D(num_filter, (5,5), use_bias=False ,padding='same')(input)\n",
    "Batchnorm = layers.BatchNormalization()(First_Conv2D)\n",
    "\n",
    "First_Block = denseblock(Batchnorm,32, dropout_rate)\n",
    "First_Transition = transition(First_Block, num_filter, dropout_rate)\n",
    "\n",
    "Second_Block = denseblock(First_Transition, 16, dropout_rate)\n",
    "Second_Transition = transition(Second_Block, num_filter, dropout_rate)\n",
    "\n",
    "Third_Block = denseblock(Second_Transition, num_filter, dropout_rate)\n",
    "Third_Transition = transition(Third_Block, num_filter, dropout_rate)\n",
    "\n",
    "Last_Block = denseblock(Third_Transition,  num_filter, dropout_rate)\n",
    "output = output_layer(Last_Block)"
   ]
  },
  {
   "cell_type": "code",
   "execution_count": 22,
   "metadata": {
    "colab": {
     "base_uri": "https://localhost:8080/"
    },
    "id": "OrXidlcQrOam",
    "outputId": "5b80226c-1eef-4e5d-ee29-11a981d9e52f",
    "scrolled": false
   },
   "outputs": [
    {
     "name": "stdout",
     "output_type": "stream",
     "text": [
      "Model: \"model_1\"\n",
      "__________________________________________________________________________________________________\n",
      "Layer (type)                    Output Shape         Param #     Connected to                     \n",
      "==================================================================================================\n",
      "input_2 (InputLayer)            [(None, 32, 32, 3)]  0                                            \n",
      "__________________________________________________________________________________________________\n",
      "conv2d_52 (Conv2D)              (None, 32, 32, 10)   750         input_2[0][0]                    \n",
      "__________________________________________________________________________________________________\n",
      "batch_normalization_52 (BatchNo (None, 32, 32, 10)   40          conv2d_52[0][0]                  \n",
      "__________________________________________________________________________________________________\n",
      "batch_normalization_53 (BatchNo (None, 32, 32, 10)   40          batch_normalization_52[0][0]     \n",
      "__________________________________________________________________________________________________\n",
      "activation_52 (Activation)      (None, 32, 32, 10)   0           batch_normalization_53[0][0]     \n",
      "__________________________________________________________________________________________________\n",
      "conv2d_53 (Conv2D)              (None, 32, 32, 16)   4000        activation_52[0][0]              \n",
      "__________________________________________________________________________________________________\n",
      "concatenate_48 (Concatenate)    (None, 32, 32, 26)   0           batch_normalization_52[0][0]     \n",
      "                                                                 conv2d_53[0][0]                  \n",
      "__________________________________________________________________________________________________\n",
      "batch_normalization_54 (BatchNo (None, 32, 32, 26)   104         concatenate_48[0][0]             \n",
      "__________________________________________________________________________________________________\n",
      "activation_53 (Activation)      (None, 32, 32, 26)   0           batch_normalization_54[0][0]     \n",
      "__________________________________________________________________________________________________\n",
      "conv2d_54 (Conv2D)              (None, 32, 32, 16)   10400       activation_53[0][0]              \n",
      "__________________________________________________________________________________________________\n",
      "concatenate_49 (Concatenate)    (None, 32, 32, 42)   0           concatenate_48[0][0]             \n",
      "                                                                 conv2d_54[0][0]                  \n",
      "__________________________________________________________________________________________________\n",
      "batch_normalization_55 (BatchNo (None, 32, 32, 42)   168         concatenate_49[0][0]             \n",
      "__________________________________________________________________________________________________\n",
      "activation_54 (Activation)      (None, 32, 32, 42)   0           batch_normalization_55[0][0]     \n",
      "__________________________________________________________________________________________________\n",
      "conv2d_55 (Conv2D)              (None, 32, 32, 16)   16800       activation_54[0][0]              \n",
      "__________________________________________________________________________________________________\n",
      "concatenate_50 (Concatenate)    (None, 32, 32, 58)   0           concatenate_49[0][0]             \n",
      "                                                                 conv2d_55[0][0]                  \n",
      "__________________________________________________________________________________________________\n",
      "batch_normalization_56 (BatchNo (None, 32, 32, 58)   232         concatenate_50[0][0]             \n",
      "__________________________________________________________________________________________________\n",
      "activation_55 (Activation)      (None, 32, 32, 58)   0           batch_normalization_56[0][0]     \n",
      "__________________________________________________________________________________________________\n",
      "conv2d_56 (Conv2D)              (None, 32, 32, 16)   23200       activation_55[0][0]              \n",
      "__________________________________________________________________________________________________\n",
      "concatenate_51 (Concatenate)    (None, 32, 32, 74)   0           concatenate_50[0][0]             \n",
      "                                                                 conv2d_56[0][0]                  \n",
      "__________________________________________________________________________________________________\n",
      "batch_normalization_57 (BatchNo (None, 32, 32, 74)   296         concatenate_51[0][0]             \n",
      "__________________________________________________________________________________________________\n",
      "activation_56 (Activation)      (None, 32, 32, 74)   0           batch_normalization_57[0][0]     \n",
      "__________________________________________________________________________________________________\n",
      "conv2d_57 (Conv2D)              (None, 32, 32, 16)   29600       activation_56[0][0]              \n",
      "__________________________________________________________________________________________________\n",
      "concatenate_52 (Concatenate)    (None, 32, 32, 90)   0           concatenate_51[0][0]             \n",
      "                                                                 conv2d_57[0][0]                  \n",
      "__________________________________________________________________________________________________\n",
      "batch_normalization_58 (BatchNo (None, 32, 32, 90)   360         concatenate_52[0][0]             \n",
      "__________________________________________________________________________________________________\n",
      "activation_57 (Activation)      (None, 32, 32, 90)   0           batch_normalization_58[0][0]     \n",
      "__________________________________________________________________________________________________\n",
      "conv2d_58 (Conv2D)              (None, 32, 32, 16)   36000       activation_57[0][0]              \n",
      "__________________________________________________________________________________________________\n",
      "concatenate_53 (Concatenate)    (None, 32, 32, 106)  0           concatenate_52[0][0]             \n",
      "                                                                 conv2d_58[0][0]                  \n",
      "__________________________________________________________________________________________________\n",
      "batch_normalization_59 (BatchNo (None, 32, 32, 106)  424         concatenate_53[0][0]             \n",
      "__________________________________________________________________________________________________\n",
      "activation_58 (Activation)      (None, 32, 32, 106)  0           batch_normalization_59[0][0]     \n",
      "__________________________________________________________________________________________________\n",
      "conv2d_59 (Conv2D)              (None, 32, 32, 16)   42400       activation_58[0][0]              \n",
      "__________________________________________________________________________________________________\n",
      "concatenate_54 (Concatenate)    (None, 32, 32, 122)  0           concatenate_53[0][0]             \n",
      "                                                                 conv2d_59[0][0]                  \n",
      "__________________________________________________________________________________________________\n",
      "batch_normalization_60 (BatchNo (None, 32, 32, 122)  488         concatenate_54[0][0]             \n",
      "__________________________________________________________________________________________________\n",
      "activation_59 (Activation)      (None, 32, 32, 122)  0           batch_normalization_60[0][0]     \n",
      "__________________________________________________________________________________________________\n",
      "conv2d_60 (Conv2D)              (None, 32, 32, 16)   48800       activation_59[0][0]              \n",
      "__________________________________________________________________________________________________\n",
      "concatenate_55 (Concatenate)    (None, 32, 32, 138)  0           concatenate_54[0][0]             \n",
      "                                                                 conv2d_60[0][0]                  \n",
      "__________________________________________________________________________________________________\n",
      "batch_normalization_61 (BatchNo (None, 32, 32, 138)  552         concatenate_55[0][0]             \n",
      "__________________________________________________________________________________________________\n",
      "activation_60 (Activation)      (None, 32, 32, 138)  0           batch_normalization_61[0][0]     \n",
      "__________________________________________________________________________________________________\n",
      "conv2d_61 (Conv2D)              (None, 32, 32, 16)   55200       activation_60[0][0]              \n",
      "__________________________________________________________________________________________________\n",
      "concatenate_56 (Concatenate)    (None, 32, 32, 154)  0           concatenate_55[0][0]             \n",
      "                                                                 conv2d_61[0][0]                  \n",
      "__________________________________________________________________________________________________\n",
      "batch_normalization_62 (BatchNo (None, 32, 32, 154)  616         concatenate_56[0][0]             \n",
      "__________________________________________________________________________________________________\n",
      "activation_61 (Activation)      (None, 32, 32, 154)  0           batch_normalization_62[0][0]     \n",
      "__________________________________________________________________________________________________\n",
      "conv2d_62 (Conv2D)              (None, 32, 32, 16)   61600       activation_61[0][0]              \n",
      "__________________________________________________________________________________________________\n",
      "concatenate_57 (Concatenate)    (None, 32, 32, 170)  0           concatenate_56[0][0]             \n",
      "                                                                 conv2d_62[0][0]                  \n",
      "__________________________________________________________________________________________________\n",
      "batch_normalization_63 (BatchNo (None, 32, 32, 170)  680         concatenate_57[0][0]             \n",
      "__________________________________________________________________________________________________\n",
      "activation_62 (Activation)      (None, 32, 32, 170)  0           batch_normalization_63[0][0]     \n",
      "__________________________________________________________________________________________________\n",
      "conv2d_63 (Conv2D)              (None, 32, 32, 16)   68000       activation_62[0][0]              \n",
      "__________________________________________________________________________________________________\n",
      "concatenate_58 (Concatenate)    (None, 32, 32, 186)  0           concatenate_57[0][0]             \n",
      "                                                                 conv2d_63[0][0]                  \n",
      "__________________________________________________________________________________________________\n",
      "batch_normalization_64 (BatchNo (None, 32, 32, 186)  744         concatenate_58[0][0]             \n",
      "__________________________________________________________________________________________________\n",
      "activation_63 (Activation)      (None, 32, 32, 186)  0           batch_normalization_64[0][0]     \n",
      "__________________________________________________________________________________________________\n",
      "conv2d_64 (Conv2D)              (None, 32, 32, 16)   74400       activation_63[0][0]              \n",
      "__________________________________________________________________________________________________\n",
      "concatenate_59 (Concatenate)    (None, 32, 32, 202)  0           concatenate_58[0][0]             \n",
      "                                                                 conv2d_64[0][0]                  \n",
      "__________________________________________________________________________________________________\n",
      "batch_normalization_65 (BatchNo (None, 32, 32, 202)  808         concatenate_59[0][0]             \n",
      "__________________________________________________________________________________________________\n",
      "activation_64 (Activation)      (None, 32, 32, 202)  0           batch_normalization_65[0][0]     \n",
      "__________________________________________________________________________________________________\n",
      "conv2d_65 (Conv2D)              (None, 32, 32, 5)    25250       activation_64[0][0]              \n",
      "__________________________________________________________________________________________________\n",
      "average_pooling2d_4 (AveragePoo (None, 16, 16, 5)    0           conv2d_65[0][0]                  \n",
      "__________________________________________________________________________________________________\n",
      "batch_normalization_66 (BatchNo (None, 16, 16, 5)    20          average_pooling2d_4[0][0]        \n",
      "__________________________________________________________________________________________________\n",
      "activation_65 (Activation)      (None, 16, 16, 5)    0           batch_normalization_66[0][0]     \n",
      "__________________________________________________________________________________________________\n",
      "conv2d_66 (Conv2D)              (None, 16, 16, 8)    1000        activation_65[0][0]              \n",
      "__________________________________________________________________________________________________\n",
      "concatenate_60 (Concatenate)    (None, 16, 16, 13)   0           average_pooling2d_4[0][0]        \n",
      "                                                                 conv2d_66[0][0]                  \n",
      "__________________________________________________________________________________________________\n",
      "batch_normalization_67 (BatchNo (None, 16, 16, 13)   52          concatenate_60[0][0]             \n",
      "__________________________________________________________________________________________________\n",
      "activation_66 (Activation)      (None, 16, 16, 13)   0           batch_normalization_67[0][0]     \n",
      "__________________________________________________________________________________________________\n",
      "conv2d_67 (Conv2D)              (None, 16, 16, 8)    2600        activation_66[0][0]              \n",
      "__________________________________________________________________________________________________\n",
      "concatenate_61 (Concatenate)    (None, 16, 16, 21)   0           concatenate_60[0][0]             \n",
      "                                                                 conv2d_67[0][0]                  \n",
      "__________________________________________________________________________________________________\n",
      "batch_normalization_68 (BatchNo (None, 16, 16, 21)   84          concatenate_61[0][0]             \n",
      "__________________________________________________________________________________________________\n",
      "activation_67 (Activation)      (None, 16, 16, 21)   0           batch_normalization_68[0][0]     \n",
      "__________________________________________________________________________________________________\n",
      "conv2d_68 (Conv2D)              (None, 16, 16, 8)    4200        activation_67[0][0]              \n",
      "__________________________________________________________________________________________________\n",
      "concatenate_62 (Concatenate)    (None, 16, 16, 29)   0           concatenate_61[0][0]             \n",
      "                                                                 conv2d_68[0][0]                  \n",
      "__________________________________________________________________________________________________\n",
      "batch_normalization_69 (BatchNo (None, 16, 16, 29)   116         concatenate_62[0][0]             \n",
      "__________________________________________________________________________________________________\n",
      "activation_68 (Activation)      (None, 16, 16, 29)   0           batch_normalization_69[0][0]     \n",
      "__________________________________________________________________________________________________\n",
      "conv2d_69 (Conv2D)              (None, 16, 16, 8)    5800        activation_68[0][0]              \n",
      "__________________________________________________________________________________________________\n",
      "concatenate_63 (Concatenate)    (None, 16, 16, 37)   0           concatenate_62[0][0]             \n",
      "                                                                 conv2d_69[0][0]                  \n",
      "__________________________________________________________________________________________________\n",
      "batch_normalization_70 (BatchNo (None, 16, 16, 37)   148         concatenate_63[0][0]             \n",
      "__________________________________________________________________________________________________\n",
      "activation_69 (Activation)      (None, 16, 16, 37)   0           batch_normalization_70[0][0]     \n",
      "__________________________________________________________________________________________________\n",
      "conv2d_70 (Conv2D)              (None, 16, 16, 8)    7400        activation_69[0][0]              \n",
      "__________________________________________________________________________________________________\n",
      "concatenate_64 (Concatenate)    (None, 16, 16, 45)   0           concatenate_63[0][0]             \n",
      "                                                                 conv2d_70[0][0]                  \n",
      "__________________________________________________________________________________________________\n",
      "batch_normalization_71 (BatchNo (None, 16, 16, 45)   180         concatenate_64[0][0]             \n",
      "__________________________________________________________________________________________________\n",
      "activation_70 (Activation)      (None, 16, 16, 45)   0           batch_normalization_71[0][0]     \n",
      "__________________________________________________________________________________________________\n",
      "conv2d_71 (Conv2D)              (None, 16, 16, 8)    9000        activation_70[0][0]              \n",
      "__________________________________________________________________________________________________\n",
      "concatenate_65 (Concatenate)    (None, 16, 16, 53)   0           concatenate_64[0][0]             \n",
      "                                                                 conv2d_71[0][0]                  \n",
      "__________________________________________________________________________________________________\n",
      "batch_normalization_72 (BatchNo (None, 16, 16, 53)   212         concatenate_65[0][0]             \n",
      "__________________________________________________________________________________________________\n",
      "activation_71 (Activation)      (None, 16, 16, 53)   0           batch_normalization_72[0][0]     \n",
      "__________________________________________________________________________________________________\n",
      "conv2d_72 (Conv2D)              (None, 16, 16, 8)    10600       activation_71[0][0]              \n",
      "__________________________________________________________________________________________________\n",
      "concatenate_66 (Concatenate)    (None, 16, 16, 61)   0           concatenate_65[0][0]             \n",
      "                                                                 conv2d_72[0][0]                  \n",
      "__________________________________________________________________________________________________\n",
      "batch_normalization_73 (BatchNo (None, 16, 16, 61)   244         concatenate_66[0][0]             \n",
      "__________________________________________________________________________________________________\n",
      "activation_72 (Activation)      (None, 16, 16, 61)   0           batch_normalization_73[0][0]     \n",
      "__________________________________________________________________________________________________\n",
      "conv2d_73 (Conv2D)              (None, 16, 16, 8)    12200       activation_72[0][0]              \n",
      "__________________________________________________________________________________________________\n",
      "concatenate_67 (Concatenate)    (None, 16, 16, 69)   0           concatenate_66[0][0]             \n",
      "                                                                 conv2d_73[0][0]                  \n",
      "__________________________________________________________________________________________________\n",
      "batch_normalization_74 (BatchNo (None, 16, 16, 69)   276         concatenate_67[0][0]             \n",
      "__________________________________________________________________________________________________\n",
      "activation_73 (Activation)      (None, 16, 16, 69)   0           batch_normalization_74[0][0]     \n",
      "__________________________________________________________________________________________________\n",
      "conv2d_74 (Conv2D)              (None, 16, 16, 8)    13800       activation_73[0][0]              \n",
      "__________________________________________________________________________________________________\n",
      "concatenate_68 (Concatenate)    (None, 16, 16, 77)   0           concatenate_67[0][0]             \n",
      "                                                                 conv2d_74[0][0]                  \n",
      "__________________________________________________________________________________________________\n",
      "batch_normalization_75 (BatchNo (None, 16, 16, 77)   308         concatenate_68[0][0]             \n",
      "__________________________________________________________________________________________________\n",
      "activation_74 (Activation)      (None, 16, 16, 77)   0           batch_normalization_75[0][0]     \n",
      "__________________________________________________________________________________________________\n",
      "conv2d_75 (Conv2D)              (None, 16, 16, 8)    15400       activation_74[0][0]              \n",
      "__________________________________________________________________________________________________\n",
      "concatenate_69 (Concatenate)    (None, 16, 16, 85)   0           concatenate_68[0][0]             \n",
      "                                                                 conv2d_75[0][0]                  \n",
      "__________________________________________________________________________________________________\n",
      "batch_normalization_76 (BatchNo (None, 16, 16, 85)   340         concatenate_69[0][0]             \n",
      "__________________________________________________________________________________________________\n",
      "activation_75 (Activation)      (None, 16, 16, 85)   0           batch_normalization_76[0][0]     \n",
      "__________________________________________________________________________________________________\n",
      "conv2d_76 (Conv2D)              (None, 16, 16, 8)    17000       activation_75[0][0]              \n",
      "__________________________________________________________________________________________________\n",
      "concatenate_70 (Concatenate)    (None, 16, 16, 93)   0           concatenate_69[0][0]             \n",
      "                                                                 conv2d_76[0][0]                  \n",
      "__________________________________________________________________________________________________\n",
      "batch_normalization_77 (BatchNo (None, 16, 16, 93)   372         concatenate_70[0][0]             \n",
      "__________________________________________________________________________________________________\n",
      "activation_76 (Activation)      (None, 16, 16, 93)   0           batch_normalization_77[0][0]     \n",
      "__________________________________________________________________________________________________\n",
      "conv2d_77 (Conv2D)              (None, 16, 16, 8)    18600       activation_76[0][0]              \n",
      "__________________________________________________________________________________________________\n",
      "concatenate_71 (Concatenate)    (None, 16, 16, 101)  0           concatenate_70[0][0]             \n",
      "                                                                 conv2d_77[0][0]                  \n",
      "__________________________________________________________________________________________________\n",
      "batch_normalization_78 (BatchNo (None, 16, 16, 101)  404         concatenate_71[0][0]             \n",
      "__________________________________________________________________________________________________\n",
      "activation_77 (Activation)      (None, 16, 16, 101)  0           batch_normalization_78[0][0]     \n",
      "__________________________________________________________________________________________________\n",
      "conv2d_78 (Conv2D)              (None, 16, 16, 5)    12625       activation_77[0][0]              \n",
      "__________________________________________________________________________________________________\n",
      "average_pooling2d_5 (AveragePoo (None, 8, 8, 5)      0           conv2d_78[0][0]                  \n",
      "__________________________________________________________________________________________________\n",
      "batch_normalization_79 (BatchNo (None, 8, 8, 5)      20          average_pooling2d_5[0][0]        \n",
      "__________________________________________________________________________________________________\n",
      "activation_78 (Activation)      (None, 8, 8, 5)      0           batch_normalization_79[0][0]     \n",
      "__________________________________________________________________________________________________\n",
      "conv2d_79 (Conv2D)              (None, 8, 8, 5)      625         activation_78[0][0]              \n",
      "__________________________________________________________________________________________________\n",
      "concatenate_72 (Concatenate)    (None, 8, 8, 10)     0           average_pooling2d_5[0][0]        \n",
      "                                                                 conv2d_79[0][0]                  \n",
      "__________________________________________________________________________________________________\n",
      "batch_normalization_80 (BatchNo (None, 8, 8, 10)     40          concatenate_72[0][0]             \n",
      "__________________________________________________________________________________________________\n",
      "activation_79 (Activation)      (None, 8, 8, 10)     0           batch_normalization_80[0][0]     \n",
      "__________________________________________________________________________________________________\n",
      "conv2d_80 (Conv2D)              (None, 8, 8, 5)      1250        activation_79[0][0]              \n",
      "__________________________________________________________________________________________________\n",
      "concatenate_73 (Concatenate)    (None, 8, 8, 15)     0           concatenate_72[0][0]             \n",
      "                                                                 conv2d_80[0][0]                  \n",
      "__________________________________________________________________________________________________\n",
      "batch_normalization_81 (BatchNo (None, 8, 8, 15)     60          concatenate_73[0][0]             \n",
      "__________________________________________________________________________________________________\n",
      "activation_80 (Activation)      (None, 8, 8, 15)     0           batch_normalization_81[0][0]     \n",
      "__________________________________________________________________________________________________\n",
      "conv2d_81 (Conv2D)              (None, 8, 8, 5)      1875        activation_80[0][0]              \n",
      "__________________________________________________________________________________________________\n",
      "concatenate_74 (Concatenate)    (None, 8, 8, 20)     0           concatenate_73[0][0]             \n",
      "                                                                 conv2d_81[0][0]                  \n",
      "__________________________________________________________________________________________________\n",
      "batch_normalization_82 (BatchNo (None, 8, 8, 20)     80          concatenate_74[0][0]             \n",
      "__________________________________________________________________________________________________\n",
      "activation_81 (Activation)      (None, 8, 8, 20)     0           batch_normalization_82[0][0]     \n",
      "__________________________________________________________________________________________________\n",
      "conv2d_82 (Conv2D)              (None, 8, 8, 5)      2500        activation_81[0][0]              \n",
      "__________________________________________________________________________________________________\n",
      "concatenate_75 (Concatenate)    (None, 8, 8, 25)     0           concatenate_74[0][0]             \n",
      "                                                                 conv2d_82[0][0]                  \n",
      "__________________________________________________________________________________________________\n",
      "batch_normalization_83 (BatchNo (None, 8, 8, 25)     100         concatenate_75[0][0]             \n",
      "__________________________________________________________________________________________________\n",
      "activation_82 (Activation)      (None, 8, 8, 25)     0           batch_normalization_83[0][0]     \n",
      "__________________________________________________________________________________________________\n",
      "conv2d_83 (Conv2D)              (None, 8, 8, 5)      3125        activation_82[0][0]              \n",
      "__________________________________________________________________________________________________\n",
      "concatenate_76 (Concatenate)    (None, 8, 8, 30)     0           concatenate_75[0][0]             \n",
      "                                                                 conv2d_83[0][0]                  \n",
      "__________________________________________________________________________________________________\n",
      "batch_normalization_84 (BatchNo (None, 8, 8, 30)     120         concatenate_76[0][0]             \n",
      "__________________________________________________________________________________________________\n",
      "activation_83 (Activation)      (None, 8, 8, 30)     0           batch_normalization_84[0][0]     \n",
      "__________________________________________________________________________________________________\n",
      "conv2d_84 (Conv2D)              (None, 8, 8, 5)      3750        activation_83[0][0]              \n",
      "__________________________________________________________________________________________________\n",
      "concatenate_77 (Concatenate)    (None, 8, 8, 35)     0           concatenate_76[0][0]             \n",
      "                                                                 conv2d_84[0][0]                  \n",
      "__________________________________________________________________________________________________\n",
      "batch_normalization_85 (BatchNo (None, 8, 8, 35)     140         concatenate_77[0][0]             \n",
      "__________________________________________________________________________________________________\n",
      "activation_84 (Activation)      (None, 8, 8, 35)     0           batch_normalization_85[0][0]     \n",
      "__________________________________________________________________________________________________\n",
      "conv2d_85 (Conv2D)              (None, 8, 8, 5)      4375        activation_84[0][0]              \n",
      "__________________________________________________________________________________________________\n",
      "concatenate_78 (Concatenate)    (None, 8, 8, 40)     0           concatenate_77[0][0]             \n",
      "                                                                 conv2d_85[0][0]                  \n",
      "__________________________________________________________________________________________________\n",
      "batch_normalization_86 (BatchNo (None, 8, 8, 40)     160         concatenate_78[0][0]             \n",
      "__________________________________________________________________________________________________\n",
      "activation_85 (Activation)      (None, 8, 8, 40)     0           batch_normalization_86[0][0]     \n",
      "__________________________________________________________________________________________________\n",
      "conv2d_86 (Conv2D)              (None, 8, 8, 5)      5000        activation_85[0][0]              \n",
      "__________________________________________________________________________________________________\n",
      "concatenate_79 (Concatenate)    (None, 8, 8, 45)     0           concatenate_78[0][0]             \n",
      "                                                                 conv2d_86[0][0]                  \n",
      "__________________________________________________________________________________________________\n",
      "batch_normalization_87 (BatchNo (None, 8, 8, 45)     180         concatenate_79[0][0]             \n",
      "__________________________________________________________________________________________________\n",
      "activation_86 (Activation)      (None, 8, 8, 45)     0           batch_normalization_87[0][0]     \n",
      "__________________________________________________________________________________________________\n",
      "conv2d_87 (Conv2D)              (None, 8, 8, 5)      5625        activation_86[0][0]              \n",
      "__________________________________________________________________________________________________\n",
      "concatenate_80 (Concatenate)    (None, 8, 8, 50)     0           concatenate_79[0][0]             \n",
      "                                                                 conv2d_87[0][0]                  \n",
      "__________________________________________________________________________________________________\n",
      "batch_normalization_88 (BatchNo (None, 8, 8, 50)     200         concatenate_80[0][0]             \n",
      "__________________________________________________________________________________________________\n",
      "activation_87 (Activation)      (None, 8, 8, 50)     0           batch_normalization_88[0][0]     \n",
      "__________________________________________________________________________________________________\n",
      "conv2d_88 (Conv2D)              (None, 8, 8, 5)      6250        activation_87[0][0]              \n",
      "__________________________________________________________________________________________________\n",
      "concatenate_81 (Concatenate)    (None, 8, 8, 55)     0           concatenate_80[0][0]             \n",
      "                                                                 conv2d_88[0][0]                  \n",
      "__________________________________________________________________________________________________\n",
      "batch_normalization_89 (BatchNo (None, 8, 8, 55)     220         concatenate_81[0][0]             \n",
      "__________________________________________________________________________________________________\n",
      "activation_88 (Activation)      (None, 8, 8, 55)     0           batch_normalization_89[0][0]     \n",
      "__________________________________________________________________________________________________\n",
      "conv2d_89 (Conv2D)              (None, 8, 8, 5)      6875        activation_88[0][0]              \n",
      "__________________________________________________________________________________________________\n",
      "concatenate_82 (Concatenate)    (None, 8, 8, 60)     0           concatenate_81[0][0]             \n",
      "                                                                 conv2d_89[0][0]                  \n",
      "__________________________________________________________________________________________________\n",
      "batch_normalization_90 (BatchNo (None, 8, 8, 60)     240         concatenate_82[0][0]             \n",
      "__________________________________________________________________________________________________\n",
      "activation_89 (Activation)      (None, 8, 8, 60)     0           batch_normalization_90[0][0]     \n",
      "__________________________________________________________________________________________________\n",
      "conv2d_90 (Conv2D)              (None, 8, 8, 5)      7500        activation_89[0][0]              \n",
      "__________________________________________________________________________________________________\n",
      "concatenate_83 (Concatenate)    (None, 8, 8, 65)     0           concatenate_82[0][0]             \n",
      "                                                                 conv2d_90[0][0]                  \n",
      "__________________________________________________________________________________________________\n",
      "batch_normalization_91 (BatchNo (None, 8, 8, 65)     260         concatenate_83[0][0]             \n",
      "__________________________________________________________________________________________________\n",
      "activation_90 (Activation)      (None, 8, 8, 65)     0           batch_normalization_91[0][0]     \n",
      "__________________________________________________________________________________________________\n",
      "conv2d_91 (Conv2D)              (None, 8, 8, 5)      8125        activation_90[0][0]              \n",
      "__________________________________________________________________________________________________\n",
      "average_pooling2d_6 (AveragePoo (None, 4, 4, 5)      0           conv2d_91[0][0]                  \n",
      "__________________________________________________________________________________________________\n",
      "batch_normalization_92 (BatchNo (None, 4, 4, 5)      20          average_pooling2d_6[0][0]        \n",
      "__________________________________________________________________________________________________\n",
      "activation_91 (Activation)      (None, 4, 4, 5)      0           batch_normalization_92[0][0]     \n",
      "__________________________________________________________________________________________________\n",
      "conv2d_92 (Conv2D)              (None, 4, 4, 5)      625         activation_91[0][0]              \n",
      "__________________________________________________________________________________________________\n",
      "concatenate_84 (Concatenate)    (None, 4, 4, 10)     0           average_pooling2d_6[0][0]        \n",
      "                                                                 conv2d_92[0][0]                  \n",
      "__________________________________________________________________________________________________\n",
      "batch_normalization_93 (BatchNo (None, 4, 4, 10)     40          concatenate_84[0][0]             \n",
      "__________________________________________________________________________________________________\n",
      "activation_92 (Activation)      (None, 4, 4, 10)     0           batch_normalization_93[0][0]     \n",
      "__________________________________________________________________________________________________\n",
      "conv2d_93 (Conv2D)              (None, 4, 4, 5)      1250        activation_92[0][0]              \n",
      "__________________________________________________________________________________________________\n",
      "concatenate_85 (Concatenate)    (None, 4, 4, 15)     0           concatenate_84[0][0]             \n",
      "                                                                 conv2d_93[0][0]                  \n",
      "__________________________________________________________________________________________________\n",
      "batch_normalization_94 (BatchNo (None, 4, 4, 15)     60          concatenate_85[0][0]             \n",
      "__________________________________________________________________________________________________\n",
      "activation_93 (Activation)      (None, 4, 4, 15)     0           batch_normalization_94[0][0]     \n",
      "__________________________________________________________________________________________________\n",
      "conv2d_94 (Conv2D)              (None, 4, 4, 5)      1875        activation_93[0][0]              \n",
      "__________________________________________________________________________________________________\n",
      "concatenate_86 (Concatenate)    (None, 4, 4, 20)     0           concatenate_85[0][0]             \n",
      "                                                                 conv2d_94[0][0]                  \n",
      "__________________________________________________________________________________________________\n",
      "batch_normalization_95 (BatchNo (None, 4, 4, 20)     80          concatenate_86[0][0]             \n",
      "__________________________________________________________________________________________________\n",
      "activation_94 (Activation)      (None, 4, 4, 20)     0           batch_normalization_95[0][0]     \n",
      "__________________________________________________________________________________________________\n",
      "conv2d_95 (Conv2D)              (None, 4, 4, 5)      2500        activation_94[0][0]              \n",
      "__________________________________________________________________________________________________\n",
      "concatenate_87 (Concatenate)    (None, 4, 4, 25)     0           concatenate_86[0][0]             \n",
      "                                                                 conv2d_95[0][0]                  \n",
      "__________________________________________________________________________________________________\n",
      "batch_normalization_96 (BatchNo (None, 4, 4, 25)     100         concatenate_87[0][0]             \n",
      "__________________________________________________________________________________________________\n",
      "activation_95 (Activation)      (None, 4, 4, 25)     0           batch_normalization_96[0][0]     \n",
      "__________________________________________________________________________________________________\n",
      "conv2d_96 (Conv2D)              (None, 4, 4, 5)      3125        activation_95[0][0]              \n",
      "__________________________________________________________________________________________________\n",
      "concatenate_88 (Concatenate)    (None, 4, 4, 30)     0           concatenate_87[0][0]             \n",
      "                                                                 conv2d_96[0][0]                  \n",
      "__________________________________________________________________________________________________\n",
      "batch_normalization_97 (BatchNo (None, 4, 4, 30)     120         concatenate_88[0][0]             \n",
      "__________________________________________________________________________________________________\n",
      "activation_96 (Activation)      (None, 4, 4, 30)     0           batch_normalization_97[0][0]     \n",
      "__________________________________________________________________________________________________\n",
      "conv2d_97 (Conv2D)              (None, 4, 4, 5)      3750        activation_96[0][0]              \n",
      "__________________________________________________________________________________________________\n",
      "concatenate_89 (Concatenate)    (None, 4, 4, 35)     0           concatenate_88[0][0]             \n",
      "                                                                 conv2d_97[0][0]                  \n",
      "__________________________________________________________________________________________________\n",
      "batch_normalization_98 (BatchNo (None, 4, 4, 35)     140         concatenate_89[0][0]             \n",
      "__________________________________________________________________________________________________\n",
      "activation_97 (Activation)      (None, 4, 4, 35)     0           batch_normalization_98[0][0]     \n",
      "__________________________________________________________________________________________________\n",
      "conv2d_98 (Conv2D)              (None, 4, 4, 5)      4375        activation_97[0][0]              \n",
      "__________________________________________________________________________________________________\n",
      "concatenate_90 (Concatenate)    (None, 4, 4, 40)     0           concatenate_89[0][0]             \n",
      "                                                                 conv2d_98[0][0]                  \n",
      "__________________________________________________________________________________________________\n",
      "batch_normalization_99 (BatchNo (None, 4, 4, 40)     160         concatenate_90[0][0]             \n",
      "__________________________________________________________________________________________________\n",
      "activation_98 (Activation)      (None, 4, 4, 40)     0           batch_normalization_99[0][0]     \n",
      "__________________________________________________________________________________________________\n",
      "conv2d_99 (Conv2D)              (None, 4, 4, 5)      5000        activation_98[0][0]              \n",
      "__________________________________________________________________________________________________\n",
      "concatenate_91 (Concatenate)    (None, 4, 4, 45)     0           concatenate_90[0][0]             \n",
      "                                                                 conv2d_99[0][0]                  \n",
      "__________________________________________________________________________________________________\n",
      "batch_normalization_100 (BatchN (None, 4, 4, 45)     180         concatenate_91[0][0]             \n",
      "__________________________________________________________________________________________________\n",
      "activation_99 (Activation)      (None, 4, 4, 45)     0           batch_normalization_100[0][0]    \n",
      "__________________________________________________________________________________________________\n",
      "conv2d_100 (Conv2D)             (None, 4, 4, 5)      5625        activation_99[0][0]              \n",
      "__________________________________________________________________________________________________\n",
      "concatenate_92 (Concatenate)    (None, 4, 4, 50)     0           concatenate_91[0][0]             \n",
      "                                                                 conv2d_100[0][0]                 \n",
      "__________________________________________________________________________________________________\n",
      "batch_normalization_101 (BatchN (None, 4, 4, 50)     200         concatenate_92[0][0]             \n",
      "__________________________________________________________________________________________________\n",
      "activation_100 (Activation)     (None, 4, 4, 50)     0           batch_normalization_101[0][0]    \n",
      "__________________________________________________________________________________________________\n",
      "conv2d_101 (Conv2D)             (None, 4, 4, 5)      6250        activation_100[0][0]             \n",
      "__________________________________________________________________________________________________\n",
      "concatenate_93 (Concatenate)    (None, 4, 4, 55)     0           concatenate_92[0][0]             \n",
      "                                                                 conv2d_101[0][0]                 \n",
      "__________________________________________________________________________________________________\n",
      "batch_normalization_102 (BatchN (None, 4, 4, 55)     220         concatenate_93[0][0]             \n",
      "__________________________________________________________________________________________________\n",
      "activation_101 (Activation)     (None, 4, 4, 55)     0           batch_normalization_102[0][0]    \n",
      "__________________________________________________________________________________________________\n",
      "conv2d_102 (Conv2D)             (None, 4, 4, 5)      6875        activation_101[0][0]             \n",
      "__________________________________________________________________________________________________\n",
      "concatenate_94 (Concatenate)    (None, 4, 4, 60)     0           concatenate_93[0][0]             \n",
      "                                                                 conv2d_102[0][0]                 \n",
      "__________________________________________________________________________________________________\n",
      "batch_normalization_103 (BatchN (None, 4, 4, 60)     240         concatenate_94[0][0]             \n",
      "__________________________________________________________________________________________________\n",
      "activation_102 (Activation)     (None, 4, 4, 60)     0           batch_normalization_103[0][0]    \n",
      "__________________________________________________________________________________________________\n",
      "conv2d_103 (Conv2D)             (None, 4, 4, 5)      7500        activation_102[0][0]             \n",
      "__________________________________________________________________________________________________\n",
      "concatenate_95 (Concatenate)    (None, 4, 4, 65)     0           concatenate_94[0][0]             \n",
      "                                                                 conv2d_103[0][0]                 \n",
      "__________________________________________________________________________________________________\n",
      "batch_normalization_104 (BatchN (None, 4, 4, 65)     260         concatenate_95[0][0]             \n",
      "__________________________________________________________________________________________________\n",
      "activation_103 (Activation)     (None, 4, 4, 65)     0           batch_normalization_104[0][0]    \n",
      "__________________________________________________________________________________________________\n",
      "average_pooling2d_7 (AveragePoo (None, 2, 2, 65)     0           activation_103[0][0]             \n",
      "__________________________________________________________________________________________________\n",
      "flatten_1 (Flatten)             (None, 260)          0           average_pooling2d_7[0][0]        \n",
      "__________________________________________________________________________________________________\n",
      "dense_1 (Dense)                 (None, 10)           2610        flatten_1[0][0]                  \n",
      "==================================================================================================\n",
      "Total params: 746,808\n",
      "Trainable params: 740,834\n",
      "Non-trainable params: 5,974\n",
      "__________________________________________________________________________________________________\n"
     ]
    }
   ],
   "source": [
    "model = Model(inputs=[input],outputs=[output])\n",
    "model.summary()"
   ]
  },
  {
   "cell_type": "markdown",
   "metadata": {
    "id": "7vtluwFnr8EF"
   },
   "source": [
    "##### we have 0.8 million trainable params"
   ]
  },
  {
   "cell_type": "code",
   "execution_count": 24,
   "metadata": {
    "id": "eWpGenTVr7pt"
   },
   "outputs": [],
   "source": [
    "from keras.preprocessing.image import ImageDataGenerator\n",
    "\n",
    "###Data Augmentation\n",
    "### https://nanonets.com/blog/data-augmentation-how-to-use-deep-learning-when-you-have-limited-data-part-2/\n",
    "# rotation_range = 15, horizontal_flip = True, width_shift_range = 0.1, height_shift_range = 0.1, zoom_range = 0.2, shear_range = 15\n",
    "def augment_data():\n",
    "    datagen = ImageDataGenerator(\n",
    "      rotation_range=15,\n",
    "      width_shift_range=0.1,\n",
    "      height_shift_range=0.09,\n",
    "      horizontal_flip=True,\n",
    "      zoom_range=0.2,\n",
    "      shear_range=15\n",
    "      )\n",
    "    return datagen\n",
    "datagen = augment_data()\n",
    "datagen.fit(X_train)"
   ]
  },
  {
   "cell_type": "code",
   "execution_count": null,
   "metadata": {
    "id": "2lYq0fCjk8Sz"
   },
   "outputs": [],
   "source": [
    "### https://keras.io/api/callbacks/model_checkpoint/"
   ]
  },
  {
   "cell_type": "code",
   "execution_count": null,
   "metadata": {
    "colab": {
     "base_uri": "https://localhost:8080/"
    },
    "id": "FMgI7BkaHcag",
    "outputId": "c372736b-bde4-4375-cd65-487197ba0a7c"
   },
   "outputs": [
    {
     "name": "stdout",
     "output_type": "stream",
     "text": [
      "Mounted at /content/drive\n"
     ]
    }
   ],
   "source": [
    "# from google.colab import drive\n",
    "# drive.mount('/content/drive')"
   ]
  },
  {
   "cell_type": "code",
   "execution_count": null,
   "metadata": {
    "id": "BP71_w7pk8Sz"
   },
   "outputs": [],
   "source": [
    "path = 'best_weights_epoch20.h5'\n",
    "checkpoint = keras.callbacks.ModelCheckpoint(\n",
    "    filepath=path,\n",
    "    monitor='val_accuracy',\n",
    "    mode='max',\n",
    "    save_best_only=True)"
   ]
  },
  {
   "cell_type": "code",
   "execution_count": null,
   "metadata": {
    "id": "L2bRJlPJ9G2R"
   },
   "outputs": [],
   "source": [
    "# from google.colab import drive\n",
    "# drive.mount('/content/drive')"
   ]
  },
  {
   "cell_type": "code",
   "execution_count": 31,
   "metadata": {
    "colab": {
     "base_uri": "https://localhost:8080/"
    },
    "id": "lCEgGVmZrXMi",
    "outputId": "91c40bcc-50e7-438d-e792-da1ace190c81",
    "scrolled": false
   },
   "outputs": [
    {
     "name": "stderr",
     "output_type": "stream",
     "text": [
      "/usr/local/lib/python3.7/dist-packages/tensorflow/python/keras/engine/training.py:1940: UserWarning: `Model.fit_generator` is deprecated and will be removed in a future version. Please use `Model.fit`, which supports generators.\n",
      "  warnings.warn('`Model.fit_generator` is deprecated and '\n"
     ]
    },
    {
     "name": "stdout",
     "output_type": "stream",
     "text": [
      "Epoch 1/20\n",
      "781/781 [==============================] - 153s 148ms/step - loss: 1.7250 - accuracy: 0.3659 - val_loss: 1.6352 - val_accuracy: 0.4372\n",
      "Epoch 2/20\n",
      "781/781 [==============================] - 114s 145ms/step - loss: 1.4152 - accuracy: 0.4820 - val_loss: 1.3549 - val_accuracy: 0.5060\n",
      "Epoch 3/20\n",
      "781/781 [==============================] - 116s 148ms/step - loss: 1.2497 - accuracy: 0.5505 - val_loss: 1.5288 - val_accuracy: 0.4906\n",
      "Epoch 4/20\n",
      "781/781 [==============================] - 119s 153ms/step - loss: 1.1252 - accuracy: 0.5960 - val_loss: 1.1729 - val_accuracy: 0.6021\n",
      "Epoch 5/20\n",
      "781/781 [==============================] - 116s 148ms/step - loss: 1.0303 - accuracy: 0.6335 - val_loss: 1.1565 - val_accuracy: 0.6027\n",
      "Epoch 6/20\n",
      "781/781 [==============================] - 116s 149ms/step - loss: 0.9658 - accuracy: 0.6551 - val_loss: 1.0424 - val_accuracy: 0.6391\n",
      "Epoch 7/20\n",
      "781/781 [==============================] - 116s 149ms/step - loss: 0.9110 - accuracy: 0.6756 - val_loss: 0.8783 - val_accuracy: 0.6937\n",
      "Epoch 8/20\n",
      "781/781 [==============================] - 116s 148ms/step - loss: 0.8595 - accuracy: 0.6953 - val_loss: 0.9983 - val_accuracy: 0.6614\n",
      "Epoch 9/20\n",
      "781/781 [==============================] - 115s 147ms/step - loss: 0.8199 - accuracy: 0.7094 - val_loss: 1.0162 - val_accuracy: 0.6650\n",
      "Epoch 10/20\n",
      "781/781 [==============================] - 115s 147ms/step - loss: 0.7833 - accuracy: 0.7249 - val_loss: 1.1882 - val_accuracy: 0.6387\n",
      "Epoch 11/20\n",
      "781/781 [==============================] - 116s 149ms/step - loss: 0.7541 - accuracy: 0.7358 - val_loss: 0.9855 - val_accuracy: 0.6864\n",
      "Epoch 12/20\n",
      "781/781 [==============================] - 116s 149ms/step - loss: 0.7270 - accuracy: 0.7451 - val_loss: 0.8677 - val_accuracy: 0.7156\n",
      "Epoch 13/20\n",
      "781/781 [==============================] - 117s 149ms/step - loss: 0.6991 - accuracy: 0.7536 - val_loss: 0.6496 - val_accuracy: 0.7756\n",
      "Epoch 14/20\n",
      "781/781 [==============================] - 115s 147ms/step - loss: 0.6761 - accuracy: 0.7640 - val_loss: 0.7735 - val_accuracy: 0.7373\n",
      "Epoch 15/20\n",
      "781/781 [==============================] - 115s 147ms/step - loss: 0.6579 - accuracy: 0.7697 - val_loss: 0.6855 - val_accuracy: 0.7683\n",
      "Epoch 16/20\n",
      "781/781 [==============================] - 119s 152ms/step - loss: 0.6426 - accuracy: 0.7749 - val_loss: 0.8081 - val_accuracy: 0.7320\n",
      "Epoch 17/20\n",
      "781/781 [==============================] - 116s 149ms/step - loss: 0.6255 - accuracy: 0.7820 - val_loss: 0.6836 - val_accuracy: 0.7732\n",
      "Epoch 18/20\n",
      "781/781 [==============================] - 118s 151ms/step - loss: 0.6110 - accuracy: 0.7869 - val_loss: 0.6480 - val_accuracy: 0.7792\n",
      "Epoch 19/20\n",
      "781/781 [==============================] - 115s 148ms/step - loss: 0.5909 - accuracy: 0.7941 - val_loss: 0.5855 - val_accuracy: 0.8045\n",
      "Epoch 20/20\n",
      "781/781 [==============================] - 116s 148ms/step - loss: 0.5787 - accuracy: 0.7957 - val_loss: 0.6022 - val_accuracy: 0.7945\n"
     ]
    }
   ],
   "source": [
    "batch_size=64\n",
    "model.compile(loss='categorical_crossentropy', optimizer=Adam(), metrics=['accuracy'])\n",
    "history = model.fit_generator(datagen.flow(X_train, y_train, batch_size=batch_size),\\\n",
    "                    steps_per_epoch=X_train.shape[0] // batch_size,epochs=20,\\\n",
    "                    verbose=1,validation_data=(X_test,y_test),callbacks=[checkpoint])"
   ]
  },
  {
   "cell_type": "code",
   "execution_count": null,
   "metadata": {
    "colab": {
     "base_uri": "https://localhost:8080/"
    },
    "id": "nPmjE1WUuUup",
    "outputId": "f8211ee8-373a-49c1-d9c3-34acb8b6790a"
   },
   "outputs": [
    {
     "name": "stdout",
     "output_type": "stream",
     "text": [
      "313/313 [==============================] - 20s 65ms/step - loss: 0.6417 - accuracy: 0.7849\n",
      "Test loss: 0.641657829284668\n",
      "Test accuracy: 0.7849000096321106\n"
     ]
    }
   ],
   "source": [
    "# Test the model\n",
    "model.load_weights(path)\n",
    "score = model.evaluate(X_test, y_test, verbose=1)      \n",
    "print('Test loss:', score[0])       \n",
    "print('Test accuracy:', score[1])   "
   ]
  },
  {
   "cell_type": "code",
   "execution_count": null,
   "metadata": {
    "id": "ck_7JBu4bqOV"
   },
   "outputs": [],
   "source": [
    "path = 'best_weights_epoch55.h5'"
   ]
  },
  {
   "cell_type": "code",
   "execution_count": null,
   "metadata": {
    "colab": {
     "base_uri": "https://localhost:8080/"
    },
    "id": "xADsgU30bqLY",
    "outputId": "c775e857-b71c-43ff-ef79-f8d3aa119821"
   },
   "outputs": [
    {
     "name": "stderr",
     "output_type": "stream",
     "text": [
      "/usr/local/lib/python3.7/dist-packages/tensorflow/python/keras/engine/training.py:1940: UserWarning: `Model.fit_generator` is deprecated and will be removed in a future version. Please use `Model.fit`, which supports generators.\n",
      "  warnings.warn('`Model.fit_generator` is deprecated and '\n"
     ]
    },
    {
     "name": "stdout",
     "output_type": "stream",
     "text": [
      "Epoch 1/15\n",
      "781/781 [==============================] - 156s 151ms/step - loss: 0.4178 - accuracy: 0.8550 - val_loss: 0.5698 - val_accuracy: 0.8134\n",
      "Epoch 2/15\n",
      "781/781 [==============================] - 115s 147ms/step - loss: 0.4090 - accuracy: 0.8568 - val_loss: 0.5355 - val_accuracy: 0.8202\n",
      "Epoch 3/15\n",
      "781/781 [==============================] - 115s 147ms/step - loss: 0.4031 - accuracy: 0.8618 - val_loss: 0.5208 - val_accuracy: 0.8301\n",
      "Epoch 4/15\n",
      "781/781 [==============================] - 115s 147ms/step - loss: 0.3976 - accuracy: 0.8615 - val_loss: 0.5456 - val_accuracy: 0.8216\n",
      "Epoch 5/15\n",
      "781/781 [==============================] - 115s 148ms/step - loss: 0.3936 - accuracy: 0.8625 - val_loss: 0.4491 - val_accuracy: 0.8510\n",
      "Epoch 6/15\n",
      "781/781 [==============================] - 115s 148ms/step - loss: 0.3928 - accuracy: 0.8623 - val_loss: 0.5136 - val_accuracy: 0.8268\n",
      "Epoch 7/15\n",
      "781/781 [==============================] - 115s 147ms/step - loss: 0.3825 - accuracy: 0.8661 - val_loss: 0.4635 - val_accuracy: 0.8492\n",
      "Epoch 8/15\n",
      "781/781 [==============================] - 115s 147ms/step - loss: 0.3789 - accuracy: 0.8672 - val_loss: 0.5166 - val_accuracy: 0.8311\n",
      "Epoch 9/15\n",
      "781/781 [==============================] - 115s 147ms/step - loss: 0.3761 - accuracy: 0.8695 - val_loss: 0.5255 - val_accuracy: 0.8289\n",
      "Epoch 10/15\n",
      "781/781 [==============================] - 118s 151ms/step - loss: 0.3741 - accuracy: 0.8690 - val_loss: 0.5462 - val_accuracy: 0.8299\n",
      "Epoch 11/15\n",
      "781/781 [==============================] - 115s 148ms/step - loss: 0.3642 - accuracy: 0.8716 - val_loss: 0.4804 - val_accuracy: 0.8439\n",
      "Epoch 12/15\n",
      "781/781 [==============================] - 117s 150ms/step - loss: 0.3646 - accuracy: 0.8729 - val_loss: 0.4253 - val_accuracy: 0.8579\n",
      "Epoch 13/15\n",
      "781/781 [==============================] - 115s 147ms/step - loss: 0.3571 - accuracy: 0.8751 - val_loss: 0.6388 - val_accuracy: 0.8069\n",
      "Epoch 14/15\n",
      "781/781 [==============================] - 115s 147ms/step - loss: 0.3539 - accuracy: 0.8780 - val_loss: 0.5496 - val_accuracy: 0.8301\n",
      "Epoch 15/15\n",
      "781/781 [==============================] - 115s 147ms/step - loss: 0.3511 - accuracy: 0.8766 - val_loss: 0.4427 - val_accuracy: 0.8541\n"
     ]
    }
   ],
   "source": [
    "model.load_weights('best_weights_epoch40.h5')\n",
    "checkpoint = keras.callbacks.ModelCheckpoint(\n",
    "    filepath=path,\n",
    "    monitor='val_accuracy',\n",
    "    mode='max',\n",
    "    save_best_only=True)\n",
    "model.compile(loss='categorical_crossentropy', optimizer=Adam(), metrics=['accuracy'])\n",
    "history = model.fit_generator(datagen.flow(X_train, y_train, batch_size=batch_size),\\\n",
    "                    steps_per_epoch=X_train.shape[0] // batch_size,epochs=15,\\\n",
    "                    verbose=1,validation_data=(X_test,y_test),callbacks=[checkpoint])"
   ]
  },
  {
   "cell_type": "code",
   "execution_count": null,
   "metadata": {
    "id": "BXbNntwd_vq7"
   },
   "outputs": [],
   "source": [
    "!cp -r '/content/best_weights_epoch55.h5'  '/content/drive/MyDrive/'"
   ]
  },
  {
   "cell_type": "code",
   "execution_count": null,
   "metadata": {
    "id": "L1sDpJAJbqJJ"
   },
   "outputs": [],
   "source": [
    "path = 'best_weights_epoch85.h5'\n",
    "checkpoint = keras.callbacks.ModelCheckpoint(\n",
    "    filepath=path,\n",
    "    monitor='val_accuracy',\n",
    "    mode='max',\n",
    "    save_best_only=True)"
   ]
  },
  {
   "cell_type": "code",
   "execution_count": null,
   "metadata": {
    "colab": {
     "base_uri": "https://localhost:8080/"
    },
    "id": "uMph_-RgbqG0",
    "outputId": "2428c81b-680a-473c-dee4-71e822aec7ff"
   },
   "outputs": [
    {
     "name": "stderr",
     "output_type": "stream",
     "text": [
      "/usr/local/lib/python3.7/dist-packages/tensorflow/python/keras/engine/training.py:1940: UserWarning: `Model.fit_generator` is deprecated and will be removed in a future version. Please use `Model.fit`, which supports generators.\n",
      "  warnings.warn('`Model.fit_generator` is deprecated and '\n"
     ]
    },
    {
     "name": "stdout",
     "output_type": "stream",
     "text": [
      "Epoch 1/30\n",
      "781/781 [==============================] - 157s 153ms/step - loss: 0.3638 - accuracy: 0.8736 - val_loss: 0.4842 - val_accuracy: 0.8436\n",
      "Epoch 2/30\n",
      "781/781 [==============================] - 115s 147ms/step - loss: 0.3564 - accuracy: 0.8768 - val_loss: 0.6951 - val_accuracy: 0.7971\n",
      "Epoch 3/30\n",
      "781/781 [==============================] - 118s 151ms/step - loss: 0.3524 - accuracy: 0.8761 - val_loss: 0.5342 - val_accuracy: 0.8328\n",
      "Epoch 4/30\n",
      "781/781 [==============================] - 115s 148ms/step - loss: 0.3473 - accuracy: 0.8776 - val_loss: 0.4074 - val_accuracy: 0.8682\n",
      "Epoch 5/30\n",
      "781/781 [==============================] - 115s 147ms/step - loss: 0.3444 - accuracy: 0.8798 - val_loss: 0.4847 - val_accuracy: 0.8424\n",
      "Epoch 6/30\n",
      "781/781 [==============================] - 117s 150ms/step - loss: 0.3414 - accuracy: 0.8816 - val_loss: 0.4684 - val_accuracy: 0.8437\n",
      "Epoch 7/30\n",
      "781/781 [==============================] - 117s 150ms/step - loss: 0.3393 - accuracy: 0.8811 - val_loss: 0.4696 - val_accuracy: 0.8452\n",
      "Epoch 8/30\n",
      "781/781 [==============================] - 115s 147ms/step - loss: 0.3337 - accuracy: 0.8816 - val_loss: 0.4637 - val_accuracy: 0.8458\n",
      "Epoch 9/30\n",
      "781/781 [==============================] - 114s 146ms/step - loss: 0.3331 - accuracy: 0.8840 - val_loss: 0.4954 - val_accuracy: 0.8412\n",
      "Epoch 10/30\n",
      "781/781 [==============================] - 115s 147ms/step - loss: 0.3297 - accuracy: 0.8843 - val_loss: 0.5015 - val_accuracy: 0.8437\n",
      "Epoch 11/30\n",
      "781/781 [==============================] - 115s 147ms/step - loss: 0.3295 - accuracy: 0.8850 - val_loss: 0.5027 - val_accuracy: 0.8419\n",
      "Epoch 12/30\n",
      "781/781 [==============================] - 115s 147ms/step - loss: 0.3216 - accuracy: 0.8875 - val_loss: 0.4757 - val_accuracy: 0.8480\n",
      "Epoch 13/30\n",
      "781/781 [==============================] - 115s 147ms/step - loss: 0.3182 - accuracy: 0.8879 - val_loss: 0.5190 - val_accuracy: 0.8341\n",
      "Epoch 14/30\n",
      "781/781 [==============================] - 115s 147ms/step - loss: 0.3188 - accuracy: 0.8900 - val_loss: 0.5112 - val_accuracy: 0.8456\n",
      "Epoch 15/30\n",
      "781/781 [==============================] - 114s 146ms/step - loss: 0.3218 - accuracy: 0.8868 - val_loss: 0.3919 - val_accuracy: 0.8691\n",
      "Epoch 16/30\n",
      "781/781 [==============================] - 114s 146ms/step - loss: 0.3119 - accuracy: 0.8889 - val_loss: 0.3960 - val_accuracy: 0.8684\n",
      "Epoch 17/30\n",
      "781/781 [==============================] - 115s 147ms/step - loss: 0.3085 - accuracy: 0.8924 - val_loss: 0.5192 - val_accuracy: 0.8417\n",
      "Epoch 18/30\n",
      "781/781 [==============================] - 115s 147ms/step - loss: 0.3053 - accuracy: 0.8922 - val_loss: 0.5063 - val_accuracy: 0.8392\n",
      "Epoch 19/30\n",
      "781/781 [==============================] - 114s 146ms/step - loss: 0.3090 - accuracy: 0.8928 - val_loss: 0.4406 - val_accuracy: 0.8595\n",
      "Epoch 20/30\n",
      "781/781 [==============================] - 115s 147ms/step - loss: 0.3005 - accuracy: 0.8957 - val_loss: 0.4997 - val_accuracy: 0.8426\n",
      "Epoch 21/30\n",
      "781/781 [==============================] - 115s 147ms/step - loss: 0.2984 - accuracy: 0.8957 - val_loss: 0.4546 - val_accuracy: 0.8527\n",
      "Epoch 22/30\n",
      "781/781 [==============================] - 115s 147ms/step - loss: 0.2953 - accuracy: 0.8966 - val_loss: 0.6197 - val_accuracy: 0.8173\n",
      "Epoch 23/30\n",
      "781/781 [==============================] - 114s 146ms/step - loss: 0.2953 - accuracy: 0.8970 - val_loss: 0.5026 - val_accuracy: 0.8380\n",
      "Epoch 24/30\n",
      "781/781 [==============================] - 115s 147ms/step - loss: 0.2935 - accuracy: 0.8977 - val_loss: 0.4265 - val_accuracy: 0.8623\n",
      "Epoch 25/30\n",
      "781/781 [==============================] - 115s 148ms/step - loss: 0.2885 - accuracy: 0.8975 - val_loss: 0.4517 - val_accuracy: 0.8579\n",
      "Epoch 26/30\n",
      "781/781 [==============================] - 116s 148ms/step - loss: 0.2894 - accuracy: 0.8981 - val_loss: 0.4063 - val_accuracy: 0.8677\n",
      "Epoch 27/30\n",
      "781/781 [==============================] - 115s 147ms/step - loss: 0.2833 - accuracy: 0.8997 - val_loss: 0.5102 - val_accuracy: 0.8440\n",
      "Epoch 28/30\n",
      "781/781 [==============================] - 118s 151ms/step - loss: 0.2824 - accuracy: 0.9003 - val_loss: 0.4280 - val_accuracy: 0.8647\n",
      "Epoch 29/30\n",
      "781/781 [==============================] - 115s 148ms/step - loss: 0.2812 - accuracy: 0.9013 - val_loss: 0.3993 - val_accuracy: 0.8751\n",
      "Epoch 30/30\n",
      "781/781 [==============================] - 115s 148ms/step - loss: 0.2799 - accuracy: 0.9020 - val_loss: 0.4679 - val_accuracy: 0.8547\n"
     ]
    }
   ],
   "source": [
    "model.load_weights('best_weights_epoch55.h5')\n",
    "model.compile(loss='categorical_crossentropy', optimizer=Adam(), metrics=['accuracy'])\n",
    "history = model.fit_generator(datagen.flow(X_train, y_train, batch_size=batch_size),\\\n",
    "                    steps_per_epoch=X_train.shape[0] // batch_size,epochs=30,\\\n",
    "                    verbose=1,validation_data=(X_test,y_test),callbacks=[checkpoint])"
   ]
  },
  {
   "cell_type": "code",
   "execution_count": null,
   "metadata": {
    "id": "L-qy7-RcbqES"
   },
   "outputs": [],
   "source": [
    "!cp -r '/content/best_weights_epoch85.h5'  '/content/drive/MyDrive/'"
   ]
  },
  {
   "cell_type": "code",
   "execution_count": null,
   "metadata": {
    "id": "Jsa982UYbqBT"
   },
   "outputs": [],
   "source": [
    "path = 'best_weights_epoch115.h5'\n",
    "checkpoint = keras.callbacks.ModelCheckpoint(\n",
    "    filepath=path,\n",
    "    monitor='val_accuracy',\n",
    "    mode='max',\n",
    "    save_best_only=True)"
   ]
  },
  {
   "cell_type": "code",
   "execution_count": null,
   "metadata": {
    "colab": {
     "base_uri": "https://localhost:8080/"
    },
    "id": "_K613G65bp-G",
    "outputId": "c1bc001c-9f12-41ba-fd89-2610955b14d6"
   },
   "outputs": [
    {
     "name": "stderr",
     "output_type": "stream",
     "text": [
      "/usr/local/lib/python3.7/dist-packages/tensorflow/python/keras/engine/training.py:1940: UserWarning: `Model.fit_generator` is deprecated and will be removed in a future version. Please use `Model.fit`, which supports generators.\n",
      "  warnings.warn('`Model.fit_generator` is deprecated and '\n"
     ]
    },
    {
     "name": "stdout",
     "output_type": "stream",
     "text": [
      "Epoch 1/30\n",
      "781/781 [==============================] - 159s 155ms/step - loss: 0.2775 - accuracy: 0.9017 - val_loss: 0.4250 - val_accuracy: 0.8604\n",
      "Epoch 2/30\n",
      "781/781 [==============================] - 121s 154ms/step - loss: 0.2778 - accuracy: 0.9017 - val_loss: 0.3903 - val_accuracy: 0.8730\n",
      "Epoch 3/30\n",
      "781/781 [==============================] - 120s 154ms/step - loss: 0.2780 - accuracy: 0.9028 - val_loss: 0.4269 - val_accuracy: 0.8666\n",
      "Epoch 4/30\n",
      "781/781 [==============================] - 117s 150ms/step - loss: 0.2742 - accuracy: 0.9043 - val_loss: 0.4757 - val_accuracy: 0.8550\n",
      "Epoch 5/30\n",
      "781/781 [==============================] - 117s 150ms/step - loss: 0.2723 - accuracy: 0.9037 - val_loss: 0.4582 - val_accuracy: 0.8588\n",
      "Epoch 6/30\n",
      "781/781 [==============================] - 118s 151ms/step - loss: 0.2720 - accuracy: 0.9042 - val_loss: 0.4763 - val_accuracy: 0.8529\n",
      "Epoch 7/30\n",
      "781/781 [==============================] - 117s 150ms/step - loss: 0.2643 - accuracy: 0.9076 - val_loss: 0.4387 - val_accuracy: 0.8646\n",
      "Epoch 8/30\n",
      "781/781 [==============================] - 117s 150ms/step - loss: 0.2738 - accuracy: 0.9043 - val_loss: 0.5215 - val_accuracy: 0.8448\n",
      "Epoch 9/30\n",
      "781/781 [==============================] - 117s 150ms/step - loss: 0.2650 - accuracy: 0.9074 - val_loss: 0.4282 - val_accuracy: 0.8688\n",
      "Epoch 10/30\n",
      "781/781 [==============================] - 118s 151ms/step - loss: 0.2647 - accuracy: 0.9085 - val_loss: 0.4375 - val_accuracy: 0.8617\n",
      "Epoch 11/30\n",
      "781/781 [==============================] - 118s 151ms/step - loss: 0.2594 - accuracy: 0.9094 - val_loss: 0.5873 - val_accuracy: 0.8325\n",
      "Epoch 12/30\n",
      "781/781 [==============================] - 120s 154ms/step - loss: 0.2656 - accuracy: 0.9068 - val_loss: 0.4245 - val_accuracy: 0.8668\n",
      "Epoch 13/30\n",
      "781/781 [==============================] - 118s 151ms/step - loss: 0.2659 - accuracy: 0.9062 - val_loss: 0.4918 - val_accuracy: 0.8467\n",
      "Epoch 14/30\n",
      "781/781 [==============================] - 117s 150ms/step - loss: 0.2585 - accuracy: 0.9099 - val_loss: 0.3979 - val_accuracy: 0.8731\n",
      "Epoch 15/30\n",
      "781/781 [==============================] - 120s 154ms/step - loss: 0.2574 - accuracy: 0.9093 - val_loss: 0.4473 - val_accuracy: 0.8671\n",
      "Epoch 16/30\n",
      "781/781 [==============================] - 118s 151ms/step - loss: 0.2533 - accuracy: 0.9107 - val_loss: 0.3749 - val_accuracy: 0.8799\n",
      "Epoch 17/30\n",
      "781/781 [==============================] - 118s 151ms/step - loss: 0.2496 - accuracy: 0.9116 - val_loss: 0.4054 - val_accuracy: 0.8706\n",
      "Epoch 18/30\n",
      "781/781 [==============================] - 118s 151ms/step - loss: 0.2510 - accuracy: 0.9122 - val_loss: 0.4819 - val_accuracy: 0.8544\n",
      "Epoch 19/30\n",
      "781/781 [==============================] - 117s 150ms/step - loss: 0.2489 - accuracy: 0.9118 - val_loss: 0.4347 - val_accuracy: 0.8655\n",
      "Epoch 20/30\n",
      "781/781 [==============================] - 120s 154ms/step - loss: 0.2465 - accuracy: 0.9130 - val_loss: 0.4244 - val_accuracy: 0.8721\n",
      "Epoch 21/30\n",
      "781/781 [==============================] - 117s 150ms/step - loss: 0.2492 - accuracy: 0.9132 - val_loss: 0.4077 - val_accuracy: 0.8744\n",
      "Epoch 22/30\n",
      "781/781 [==============================] - 118s 151ms/step - loss: 0.2456 - accuracy: 0.9139 - val_loss: 0.3849 - val_accuracy: 0.8797\n",
      "Epoch 23/30\n",
      "781/781 [==============================] - 118s 151ms/step - loss: 0.2471 - accuracy: 0.9132 - val_loss: 0.4045 - val_accuracy: 0.8753\n",
      "Epoch 24/30\n",
      "781/781 [==============================] - 118s 151ms/step - loss: 0.2456 - accuracy: 0.9129 - val_loss: 0.3963 - val_accuracy: 0.8789\n",
      "Epoch 25/30\n",
      "781/781 [==============================] - 118s 151ms/step - loss: 0.2396 - accuracy: 0.9155 - val_loss: 0.4283 - val_accuracy: 0.8662\n",
      "Epoch 26/30\n",
      "781/781 [==============================] - 121s 154ms/step - loss: 0.2410 - accuracy: 0.9154 - val_loss: 0.4251 - val_accuracy: 0.8658\n",
      "Epoch 27/30\n",
      "781/781 [==============================] - 117s 149ms/step - loss: 0.2362 - accuracy: 0.9173 - val_loss: 0.4279 - val_accuracy: 0.8692\n",
      "Epoch 28/30\n",
      "781/781 [==============================] - 118s 150ms/step - loss: 0.2357 - accuracy: 0.9173 - val_loss: 0.4325 - val_accuracy: 0.8688\n",
      "Epoch 29/30\n",
      "781/781 [==============================] - 118s 150ms/step - loss: 0.2387 - accuracy: 0.9164 - val_loss: 0.4364 - val_accuracy: 0.8709\n",
      "Epoch 30/30\n",
      "781/781 [==============================] - 120s 154ms/step - loss: 0.2322 - accuracy: 0.9190 - val_loss: 0.3871 - val_accuracy: 0.8788\n"
     ]
    }
   ],
   "source": [
    "model.load_weights('best_weights_epoch85.h5')\n",
    "model.compile(loss='categorical_crossentropy', optimizer=Adam(), metrics=['accuracy'])\n",
    "history = model.fit_generator(datagen.flow(X_train, y_train, batch_size=batch_size),\\\n",
    "                    steps_per_epoch=X_train.shape[0] // batch_size,epochs=30,\\\n",
    "                    verbose=1,validation_data=(X_test,y_test),callbacks=[checkpoint])"
   ]
  },
  {
   "cell_type": "code",
   "execution_count": null,
   "metadata": {
    "id": "jXZP7QoMuUoa",
    "outputId": "0a816d2c-17e4-4a16-aaa1-69ebe1f7a991"
   },
   "outputs": [
    {
     "data": {
      "image/png": "[encoded data removed]",
      "text/plain": [
       "<Figure size 648x360 with 1 Axes>"
      ]
     },
     "metadata": {
      "tags": []
     },
     "output_type": "display_data"
    }
   ],
   "source": [
    "#### visualize loss and layers for 100 epochs\n",
    "import seaborn as sns\n",
    "def plot_accuracy(train_loss,test_loss):\n",
    "    fig = plt.figure(figsize=(9,5))\n",
    "    sns.lineplot(np.arange(100),train_loss,label='train_loss')\n",
    "    sns.lineplot(np.arange(100),test_loss,label='test_loss')\n",
    "    plt.title('Test-Train Accuracy')\n",
    "    plt.xlabel('epochs')\n",
    "    plt.ylabel('loss')\n",
    "    plt.show()\n",
    "plot_accuracy(history['accuracy'][:100],history['val_accuracy'][:100])"
   ]
  },
  {
   "cell_type": "code",
   "execution_count": null,
   "metadata": {
    "id": "UNXItSrtbp6y"
   },
   "outputs": [],
   "source": [
    "path = 'best_weights_epoch135.h5'\n",
    "checkpoint = keras.callbacks.ModelCheckpoint(\n",
    "    filepath=path,\n",
    "    monitor='val_accuracy',\n",
    "    mode='max',\n",
    "    save_best_only=True)"
   ]
  },
  {
   "cell_type": "code",
   "execution_count": null,
   "metadata": {
    "colab": {
     "base_uri": "https://localhost:8080/"
    },
    "id": "5hTC44BqyEZZ",
    "outputId": "b3798bc7-d76e-4aee-fd6f-bed28c239364"
   },
   "outputs": [
    {
     "name": "stderr",
     "output_type": "stream",
     "text": [
      "/usr/local/lib/python3.7/dist-packages/tensorflow/python/keras/engine/training.py:1940: UserWarning: `Model.fit_generator` is deprecated and will be removed in a future version. Please use `Model.fit`, which supports generators.\n",
      "  warnings.warn('`Model.fit_generator` is deprecated and '\n"
     ]
    },
    {
     "name": "stdout",
     "output_type": "stream",
     "text": [
      "Epoch 1/20\n",
      "781/781 [==============================] - 123s 152ms/step - loss: 0.2464 - accuracy: 0.9125 - val_loss: 0.4448 - val_accuracy: 0.8660\n",
      "Epoch 2/20\n",
      "781/781 [==============================] - 117s 150ms/step - loss: 0.2394 - accuracy: 0.9154 - val_loss: 0.4264 - val_accuracy: 0.8678\n",
      "Epoch 3/20\n",
      "781/781 [==============================] - 117s 150ms/step - loss: 0.2428 - accuracy: 0.9146 - val_loss: 0.4666 - val_accuracy: 0.8594\n",
      "Epoch 4/20\n",
      "781/781 [==============================] - 117s 150ms/step - loss: 0.2419 - accuracy: 0.9137 - val_loss: 0.4198 - val_accuracy: 0.8711\n",
      "Epoch 5/20\n",
      "781/781 [==============================] - 118s 151ms/step - loss: 0.2370 - accuracy: 0.9173 - val_loss: 0.4397 - val_accuracy: 0.8677\n",
      "Epoch 6/20\n",
      "781/781 [==============================] - 118s 151ms/step - loss: 0.2396 - accuracy: 0.9161 - val_loss: 0.4658 - val_accuracy: 0.8606\n",
      "Epoch 7/20\n",
      "781/781 [==============================] - 117s 150ms/step - loss: 0.2361 - accuracy: 0.9169 - val_loss: 0.4918 - val_accuracy: 0.8523\n",
      "Epoch 8/20\n",
      "781/781 [==============================] - 120s 154ms/step - loss: 0.2391 - accuracy: 0.9155 - val_loss: 0.3854 - val_accuracy: 0.8811\n",
      "Epoch 9/20\n",
      "781/781 [==============================] - 121s 154ms/step - loss: 0.2364 - accuracy: 0.9173 - val_loss: 0.3571 - val_accuracy: 0.8845\n",
      "Epoch 10/20\n",
      "781/781 [==============================] - 118s 151ms/step - loss: 0.2327 - accuracy: 0.9168 - val_loss: 0.4488 - val_accuracy: 0.8686\n",
      "Epoch 11/20\n",
      "781/781 [==============================] - 118s 150ms/step - loss: 0.2303 - accuracy: 0.9194 - val_loss: 0.4265 - val_accuracy: 0.8689\n",
      "Epoch 12/20\n",
      "781/781 [==============================] - 121s 154ms/step - loss: 0.2298 - accuracy: 0.9200 - val_loss: 0.4837 - val_accuracy: 0.8580\n",
      "Epoch 13/20\n",
      "781/781 [==============================] - 117s 150ms/step - loss: 0.2275 - accuracy: 0.9199 - val_loss: 0.4764 - val_accuracy: 0.8589\n",
      "Epoch 14/20\n",
      "781/781 [==============================] - 120s 153ms/step - loss: 0.2247 - accuracy: 0.9207 - val_loss: 0.4889 - val_accuracy: 0.8556\n",
      "Epoch 15/20\n",
      "781/781 [==============================] - 120s 153ms/step - loss: 0.2259 - accuracy: 0.9202 - val_loss: 0.3972 - val_accuracy: 0.8767\n",
      "Epoch 16/20\n",
      "781/781 [==============================] - 117s 150ms/step - loss: 0.2285 - accuracy: 0.9189 - val_loss: 0.4497 - val_accuracy: 0.8646\n",
      "Epoch 17/20\n",
      "781/781 [==============================] - 118s 150ms/step - loss: 0.2281 - accuracy: 0.9196 - val_loss: 0.4538 - val_accuracy: 0.8671\n",
      "Epoch 18/20\n",
      "781/781 [==============================] - 117s 150ms/step - loss: 0.2272 - accuracy: 0.9210 - val_loss: 0.4015 - val_accuracy: 0.8732\n",
      "Epoch 19/20\n",
      "781/781 [==============================] - 120s 154ms/step - loss: 0.2240 - accuracy: 0.9225 - val_loss: 0.3444 - val_accuracy: 0.8910\n",
      "Epoch 20/20\n",
      "781/781 [==============================] - 118s 151ms/step - loss: 0.2217 - accuracy: 0.9205 - val_loss: 0.4281 - val_accuracy: 0.8700\n"
     ]
    }
   ],
   "source": [
    "model.load_weights('best_weights_epoch115.h5')\n",
    "model.compile(loss='categorical_crossentropy', optimizer=Adam(), metrics=['accuracy'])\n",
    "history = model.fit_generator(datagen.flow(X_train, y_train, batch_size=batch_size),\\\n",
    "                    steps_per_epoch=X_train.shape[0] // batch_size,epochs=20,\\\n",
    "                    verbose=1,validation_data=(X_test,y_test),callbacks=[checkpoint])"
   ]
  },
  {
   "cell_type": "code",
   "execution_count": null,
   "metadata": {
    "id": "fluJtT1bFt3h"
   },
   "outputs": [],
   "source": [
    "path = 'best_weights_epoch155.h5'\n",
    "checkpoint = keras.callbacks.ModelCheckpoint(\n",
    "    filepath=path,\n",
    "    monitor='val_accuracy',\n",
    "    mode='max',\n",
    "    save_best_only=True)"
   ]
  },
  {
   "cell_type": "code",
   "execution_count": null,
   "metadata": {
    "colab": {
     "base_uri": "https://localhost:8080/"
    },
    "id": "yLyrOs18FtyU",
    "outputId": "a49fa81c-3057-4189-9754-670e17ffe330"
   },
   "outputs": [
    {
     "name": "stderr",
     "output_type": "stream",
     "text": [
      "/usr/local/lib/python3.7/dist-packages/tensorflow/python/keras/engine/training.py:1940: UserWarning: `Model.fit_generator` is deprecated and will be removed in a future version. Please use `Model.fit`, which supports generators.\n",
      "  warnings.warn('`Model.fit_generator` is deprecated and '\n"
     ]
    },
    {
     "name": "stdout",
     "output_type": "stream",
     "text": [
      "Epoch 1/20\n",
      "781/781 [==============================] - 123s 152ms/step - loss: 0.2206 - accuracy: 0.9218 - val_loss: 0.3823 - val_accuracy: 0.8819\n",
      "Epoch 2/20\n",
      "781/781 [==============================] - 120s 153ms/step - loss: 0.2188 - accuracy: 0.9247 - val_loss: 0.3703 - val_accuracy: 0.8842\n",
      "Epoch 3/20\n",
      "781/781 [==============================] - 117s 150ms/step - loss: 0.2201 - accuracy: 0.9229 - val_loss: 0.4306 - val_accuracy: 0.8683\n",
      "Epoch 4/20\n",
      "781/781 [==============================] - 118s 151ms/step - loss: 0.2195 - accuracy: 0.9221 - val_loss: 0.4011 - val_accuracy: 0.8799\n",
      "Epoch 5/20\n",
      "781/781 [==============================] - 117s 150ms/step - loss: 0.2172 - accuracy: 0.9235 - val_loss: 0.5441 - val_accuracy: 0.8507\n",
      "Epoch 6/20\n",
      "781/781 [==============================] - 118s 151ms/step - loss: 0.2171 - accuracy: 0.9238 - val_loss: 0.3852 - val_accuracy: 0.8819\n",
      "Epoch 7/20\n",
      "781/781 [==============================] - 117s 150ms/step - loss: 0.2157 - accuracy: 0.9233 - val_loss: 0.3958 - val_accuracy: 0.8797\n",
      "Epoch 8/20\n",
      "781/781 [==============================] - 118s 151ms/step - loss: 0.2126 - accuracy: 0.9238 - val_loss: 0.3593 - val_accuracy: 0.8885\n",
      "Epoch 9/20\n",
      "781/781 [==============================] - 118s 151ms/step - loss: 0.2091 - accuracy: 0.9266 - val_loss: 0.4084 - val_accuracy: 0.8785\n",
      "Epoch 10/20\n",
      "781/781 [==============================] - 118s 151ms/step - loss: 0.2155 - accuracy: 0.9242 - val_loss: 0.3320 - val_accuracy: 0.8986\n",
      "Epoch 11/20\n",
      "781/781 [==============================] - 118s 151ms/step - loss: 0.2121 - accuracy: 0.9251 - val_loss: 0.4551 - val_accuracy: 0.8667\n",
      "Epoch 12/20\n",
      "781/781 [==============================] - 117s 149ms/step - loss: 0.2092 - accuracy: 0.9267 - val_loss: 0.3868 - val_accuracy: 0.8774\n",
      "Epoch 13/20\n",
      "781/781 [==============================] - 116s 149ms/step - loss: 0.2101 - accuracy: 0.9244 - val_loss: 0.4343 - val_accuracy: 0.8744\n",
      "Epoch 14/20\n",
      "781/781 [==============================] - 120s 153ms/step - loss: 0.2075 - accuracy: 0.9261 - val_loss: 0.5316 - val_accuracy: 0.8532\n",
      "Epoch 15/20\n",
      "781/781 [==============================] - 118s 151ms/step - loss: 0.2021 - accuracy: 0.9279 - val_loss: 0.4122 - val_accuracy: 0.8747\n",
      "Epoch 16/20\n",
      "781/781 [==============================] - 117s 150ms/step - loss: 0.2048 - accuracy: 0.9273 - val_loss: 0.4393 - val_accuracy: 0.8698\n",
      "Epoch 17/20\n",
      "781/781 [==============================] - 120s 154ms/step - loss: 0.2031 - accuracy: 0.9291 - val_loss: 0.4312 - val_accuracy: 0.8744\n",
      "Epoch 18/20\n",
      "781/781 [==============================] - 118s 150ms/step - loss: 0.2036 - accuracy: 0.9278 - val_loss: 0.3904 - val_accuracy: 0.8876\n",
      "Epoch 19/20\n",
      "781/781 [==============================] - 118s 151ms/step - loss: 0.2002 - accuracy: 0.9280 - val_loss: 0.4365 - val_accuracy: 0.8758\n",
      "Epoch 20/20\n",
      "781/781 [==============================] - 117s 150ms/step - loss: 0.2048 - accuracy: 0.9276 - val_loss: 0.4986 - val_accuracy: 0.8578\n"
     ]
    }
   ],
   "source": [
    "model.load_weights('best_weights_epoch135.h5')\n",
    "model.compile(loss='categorical_crossentropy', optimizer=Adam(), metrics=['accuracy'])\n",
    "history = model.fit_generator(datagen.flow(X_train, y_train, batch_size=batch_size),\\\n",
    "                    steps_per_epoch=X_train.shape[0] // batch_size,epochs=20,\\\n",
    "                    verbose=1,validation_data=(X_test,y_test),callbacks=[checkpoint])"
   ]
  },
  {
   "cell_type": "code",
   "execution_count": null,
   "metadata": {
    "id": "ibaUuIRhRB5z"
   },
   "outputs": [],
   "source": [
    "path = 'best_weights_epoch185.h5'\n",
    "checkpoint = keras.callbacks.ModelCheckpoint(\n",
    "    filepath=path,\n",
    "    monitor='val_accuracy',\n",
    "    mode='max',\n",
    "    save_best_only=True)"
   ]
  },
  {
   "cell_type": "code",
   "execution_count": null,
   "metadata": {
    "colab": {
     "base_uri": "https://localhost:8080/"
    },
    "id": "UQjO9jB6RB1V",
    "outputId": "64e52b71-9112-4e90-dd31-c4f378bfd8cd"
   },
   "outputs": [
    {
     "name": "stderr",
     "output_type": "stream",
     "text": [
      "/usr/local/lib/python3.7/dist-packages/tensorflow/python/keras/engine/training.py:1940: UserWarning: `Model.fit_generator` is deprecated and will be removed in a future version. Please use `Model.fit`, which supports generators.\n",
      "  warnings.warn('`Model.fit_generator` is deprecated and '\n"
     ]
    },
    {
     "name": "stdout",
     "output_type": "stream",
     "text": [
      "Epoch 1/30\n",
      "781/781 [==============================] - 289s 325ms/step - loss: 0.2166 - accuracy: 0.9234 - val_loss: 0.3505 - val_accuracy: 0.8853\n",
      "Epoch 2/30\n",
      "781/781 [==============================] - 252s 322ms/step - loss: 0.2083 - accuracy: 0.9269 - val_loss: 0.4370 - val_accuracy: 0.8720\n",
      "Epoch 3/30\n",
      "781/781 [==============================] - 252s 322ms/step - loss: 0.2087 - accuracy: 0.9259 - val_loss: 0.3576 - val_accuracy: 0.8885\n",
      "Epoch 4/30\n",
      "781/781 [==============================] - 251s 321ms/step - loss: 0.2052 - accuracy: 0.9279 - val_loss: 0.4450 - val_accuracy: 0.8709\n",
      "Epoch 5/30\n",
      "781/781 [==============================] - 251s 322ms/step - loss: 0.2071 - accuracy: 0.9259 - val_loss: 0.3825 - val_accuracy: 0.8850\n",
      "Epoch 6/30\n",
      "781/781 [==============================] - 250s 320ms/step - loss: 0.2048 - accuracy: 0.9282 - val_loss: 0.4575 - val_accuracy: 0.8689\n",
      "Epoch 7/30\n",
      "781/781 [==============================] - 251s 322ms/step - loss: 0.2066 - accuracy: 0.9261 - val_loss: 0.4060 - val_accuracy: 0.8728\n",
      "Epoch 8/30\n",
      "781/781 [==============================] - 252s 322ms/step - loss: 0.2004 - accuracy: 0.9304 - val_loss: 0.4743 - val_accuracy: 0.8632\n",
      "Epoch 9/30\n",
      "781/781 [==============================] - 252s 323ms/step - loss: 0.2040 - accuracy: 0.9277 - val_loss: 0.5136 - val_accuracy: 0.8573\n",
      "Epoch 10/30\n",
      "781/781 [==============================] - 252s 323ms/step - loss: 0.2023 - accuracy: 0.9283 - val_loss: 0.4570 - val_accuracy: 0.8673\n",
      "Epoch 11/30\n",
      "781/781 [==============================] - 252s 322ms/step - loss: 0.2016 - accuracy: 0.9285 - val_loss: 0.3484 - val_accuracy: 0.8919\n",
      "Epoch 12/30\n",
      "781/781 [==============================] - 252s 322ms/step - loss: 0.2013 - accuracy: 0.9304 - val_loss: 0.4652 - val_accuracy: 0.8676\n",
      "Epoch 13/30\n",
      "781/781 [==============================] - 251s 322ms/step - loss: 0.1974 - accuracy: 0.9303 - val_loss: 0.4059 - val_accuracy: 0.8796\n",
      "Epoch 14/30\n",
      "781/781 [==============================] - 251s 322ms/step - loss: 0.1969 - accuracy: 0.9296 - val_loss: 0.3836 - val_accuracy: 0.8852\n",
      "Epoch 15/30\n",
      "781/781 [==============================] - 252s 322ms/step - loss: 0.1967 - accuracy: 0.9305 - val_loss: 0.4415 - val_accuracy: 0.8747\n",
      "Epoch 16/30\n",
      "781/781 [==============================] - 252s 323ms/step - loss: 0.1957 - accuracy: 0.9318 - val_loss: 0.4962 - val_accuracy: 0.8616\n",
      "Epoch 17/30\n",
      "781/781 [==============================] - 252s 323ms/step - loss: 0.1955 - accuracy: 0.9305 - val_loss: 0.4071 - val_accuracy: 0.8809\n",
      "Epoch 18/30\n",
      "781/781 [==============================] - 252s 322ms/step - loss: 0.1949 - accuracy: 0.9318 - val_loss: 0.3903 - val_accuracy: 0.8855\n",
      "Epoch 19/30\n",
      "781/781 [==============================] - 252s 322ms/step - loss: 0.1969 - accuracy: 0.9311 - val_loss: 0.5107 - val_accuracy: 0.8593\n",
      "Epoch 20/30\n",
      "781/781 [==============================] - 252s 322ms/step - loss: 0.1943 - accuracy: 0.9310 - val_loss: 0.4738 - val_accuracy: 0.8632\n",
      "Epoch 21/30\n",
      "781/781 [==============================] - 252s 323ms/step - loss: 0.1913 - accuracy: 0.9332 - val_loss: 0.4201 - val_accuracy: 0.8777\n",
      "Epoch 22/30\n",
      "781/781 [==============================] - 252s 323ms/step - loss: 0.1975 - accuracy: 0.9299 - val_loss: 0.4235 - val_accuracy: 0.8777\n",
      "Epoch 23/30\n",
      "781/781 [==============================] - 252s 322ms/step - loss: 0.1936 - accuracy: 0.9306 - val_loss: 0.4826 - val_accuracy: 0.8654\n",
      "Epoch 24/30\n",
      "781/781 [==============================] - 252s 323ms/step - loss: 0.1891 - accuracy: 0.9334 - val_loss: 0.4679 - val_accuracy: 0.8737\n",
      "Epoch 25/30\n",
      "781/781 [==============================] - 252s 323ms/step - loss: 0.1905 - accuracy: 0.9321 - val_loss: 0.4436 - val_accuracy: 0.8726\n",
      "Epoch 26/30\n",
      "781/781 [==============================] - 251s 322ms/step - loss: 0.1893 - accuracy: 0.9331 - val_loss: 0.4268 - val_accuracy: 0.8731\n",
      "Epoch 27/30\n",
      "781/781 [==============================] - 251s 322ms/step - loss: 0.1901 - accuracy: 0.9319 - val_loss: 0.4381 - val_accuracy: 0.8742\n",
      "Epoch 28/30\n",
      "781/781 [==============================] - 252s 322ms/step - loss: 0.1898 - accuracy: 0.9334 - val_loss: 0.4332 - val_accuracy: 0.8778\n",
      "Epoch 29/30\n",
      "781/781 [==============================] - 252s 322ms/step - loss: 0.1888 - accuracy: 0.9336 - val_loss: 0.4167 - val_accuracy: 0.8814\n",
      "Epoch 30/30\n",
      "781/781 [==============================] - 250s 320ms/step - loss: 0.1852 - accuracy: 0.9344 - val_loss: 0.4013 - val_accuracy: 0.8836\n"
     ]
    }
   ],
   "source": [
    "model.load_weights('best_weights_epoch155.h5')\n",
    "model.compile(loss='categorical_crossentropy', optimizer=Adam(), metrics=['accuracy'])\n",
    "history = model.fit_generator(datagen.flow(X_train, y_train, batch_size=batch_size),\\\n",
    "                    steps_per_epoch=X_train.shape[0] // batch_size,epochs=30,\\\n",
    "                    verbose=1,validation_data=(X_test,y_test),callbacks=[checkpoint])"
   ]
  },
  {
   "cell_type": "markdown",
   "metadata": {},
   "source": [
    " #### let's use SGD optimizer with momentum 0.6 and learning rate 0.001 to converge faster to optimal solution "
   ]
  },
  {
   "cell_type": "code",
   "execution_count": 32,
   "metadata": {
    "id": "-zR3t7yGJUJk"
   },
   "outputs": [],
   "source": [
    "from keras.optimizers import  SGD"
   ]
  },
  {
   "cell_type": "markdown",
   "metadata": {
    "id": "F2FNffxtpa6f"
   },
   "source": []
  },
  {
   "cell_type": "code",
   "execution_count": null,
   "metadata": {
    "colab": {
     "base_uri": "https://localhost:8080/"
    },
    "id": "Wad1p_d5RBta",
    "outputId": "5a4c9adb-1bb1-4f1c-eba8-a775820cf6ee"
   },
   "outputs": [
    {
     "name": "stderr",
     "output_type": "stream",
     "text": [
      "/usr/local/lib/python3.7/dist-packages/tensorflow/python/keras/engine/training.py:1940: UserWarning: `Model.fit_generator` is deprecated and will be removed in a future version. Please use `Model.fit`, which supports generators.\n",
      "  warnings.warn('`Model.fit_generator` is deprecated and '\n"
     ]
    },
    {
     "name": "stdout",
     "output_type": "stream",
     "text": [
      "Epoch 1/20\n",
      "390/390 [==============================] - 156s 297ms/step - loss: 0.1792 - accuracy: 0.9370 - val_loss: 0.3536 - val_accuracy: 0.8930\n",
      "Epoch 2/20\n",
      "390/390 [==============================] - 113s 290ms/step - loss: 0.1709 - accuracy: 0.9398 - val_loss: 0.3498 - val_accuracy: 0.8952\n",
      "Epoch 3/20\n",
      "390/390 [==============================] - 111s 284ms/step - loss: 0.1693 - accuracy: 0.9402 - val_loss: 0.3473 - val_accuracy: 0.8960\n",
      "Epoch 4/20\n",
      "390/390 [==============================] - 111s 285ms/step - loss: 0.1648 - accuracy: 0.9417 - val_loss: 0.3457 - val_accuracy: 0.8964\n",
      "Epoch 5/20\n",
      "390/390 [==============================] - 114s 291ms/step - loss: 0.1633 - accuracy: 0.9437 - val_loss: 0.3446 - val_accuracy: 0.8973\n",
      "Epoch 6/20\n",
      "390/390 [==============================] - 111s 284ms/step - loss: 0.1607 - accuracy: 0.9442 - val_loss: 0.3433 - val_accuracy: 0.8976\n",
      "Epoch 7/20\n",
      "390/390 [==============================] - 111s 283ms/step - loss: 0.1602 - accuracy: 0.9438 - val_loss: 0.3416 - val_accuracy: 0.8979\n",
      "Epoch 8/20\n",
      "390/390 [==============================] - 110s 283ms/step - loss: 0.1598 - accuracy: 0.9446 - val_loss: 0.3435 - val_accuracy: 0.8974\n",
      "Epoch 9/20\n",
      "390/390 [==============================] - 110s 282ms/step - loss: 0.1581 - accuracy: 0.9447 - val_loss: 0.3417 - val_accuracy: 0.8988\n",
      "Epoch 10/20\n",
      "390/390 [==============================] - 110s 282ms/step - loss: 0.1569 - accuracy: 0.9449 - val_loss: 0.3411 - val_accuracy: 0.8988\n",
      "Epoch 11/20\n",
      "390/390 [==============================] - 109s 280ms/step - loss: 0.1530 - accuracy: 0.9462 - val_loss: 0.3409 - val_accuracy: 0.8986\n",
      "Epoch 12/20\n",
      "390/390 [==============================] - 110s 282ms/step - loss: 0.1561 - accuracy: 0.9458 - val_loss: 0.3421 - val_accuracy: 0.8988\n",
      "Epoch 13/20\n",
      "390/390 [==============================] - 110s 283ms/step - loss: 0.1568 - accuracy: 0.9443 - val_loss: 0.3422 - val_accuracy: 0.8991\n",
      "Epoch 14/20\n",
      "390/390 [==============================] - 109s 280ms/step - loss: 0.1578 - accuracy: 0.9441 - val_loss: 0.3421 - val_accuracy: 0.8994\n",
      "Epoch 15/20\n",
      "390/390 [==============================] - 111s 283ms/step - loss: 0.1524 - accuracy: 0.9466 - val_loss: 0.3418 - val_accuracy: 0.8994\n",
      "Epoch 16/20\n",
      "390/390 [==============================] - 110s 283ms/step - loss: 0.1519 - accuracy: 0.9466 - val_loss: 0.3425 - val_accuracy: 0.8995\n",
      "Epoch 17/20\n",
      "390/390 [==============================] - 109s 280ms/step - loss: 0.1509 - accuracy: 0.9479 - val_loss: 0.3415 - val_accuracy: 0.8997\n",
      "Epoch 18/20\n",
      "390/390 [==============================] - 110s 282ms/step - loss: 0.1516 - accuracy: 0.9476 - val_loss: 0.3397 - val_accuracy: 0.9006\n",
      "Epoch 19/20\n",
      "390/390 [==============================] - 110s 283ms/step - loss: 0.1492 - accuracy: 0.9478 - val_loss: 0.3425 - val_accuracy: 0.8990\n",
      "Epoch 20/20\n",
      "390/390 [==============================] - 109s 280ms/step - loss: 0.1478 - accuracy: 0.9485 - val_loss: 0.3391 - val_accuracy: 0.9001\n"
     ]
    },
    {
     "data": {
      "text/plain": [
       "<tensorflow.python.keras.callbacks.History at 0x7f857abd6d50>"
      ]
     },
     "execution_count": 20,
     "metadata": {
      "tags": []
     },
     "output_type": "execute_result"
    }
   ],
   "source": [
    "\n",
    "model.load_weights('best_weights_epoch185.h5')\n",
    "\n",
    "\n",
    "path = 'best_weights_epoch205.h5'\n",
    "checkpoint = keras.callbacks.ModelCheckpoint(\n",
    "    filepath=path,\n",
    "    monitor='val_accuracy',\n",
    "    mode='max',\n",
    "    save_best_only=True)\n",
    "\n",
    "model.compile(loss='categorical_crossentropy', optimizer=SGD(momentum=0.6,learning_rate=0.001),\n",
    "              metrics=['accuracy'])\n",
    "model.fit_generator(datagen.flow(X_train, y_train, batch_size), \n",
    "                    steps_per_epoch = X_train.shape[0]//batch_size, \n",
    "                    epochs = 20, validation_data =(X_test, y_test), callbacks = [checkpoint])"
   ]
  },
  {
   "cell_type": "code",
   "execution_count": null,
   "metadata": {
    "colab": {
     "base_uri": "https://localhost:8080/"
    },
    "id": "0jg5opTbFtvu",
    "outputId": "3488277f-9a2f-414e-abfe-89a905f5a681"
   },
   "outputs": [
    {
     "name": "stderr",
     "output_type": "stream",
     "text": [
      "/usr/local/lib/python3.7/dist-packages/tensorflow/python/keras/engine/training.py:1940: UserWarning: `Model.fit_generator` is deprecated and will be removed in a future version. Please use `Model.fit`, which supports generators.\n",
      "  warnings.warn('`Model.fit_generator` is deprecated and '\n"
     ]
    },
    {
     "name": "stdout",
     "output_type": "stream",
     "text": [
      "Epoch 1/10\n",
      "390/390 [==============================] - 110s 274ms/step - loss: 0.1534 - accuracy: 0.9461 - val_loss: 0.3416 - val_accuracy: 0.8999\n",
      "Epoch 2/10\n",
      "390/390 [==============================] - 108s 278ms/step - loss: 0.1512 - accuracy: 0.9466 - val_loss: 0.3415 - val_accuracy: 0.9004\n",
      "Epoch 3/10\n",
      "390/390 [==============================] - 112s 286ms/step - loss: 0.1474 - accuracy: 0.9488 - val_loss: 0.3395 - val_accuracy: 0.8999\n",
      "Epoch 4/10\n",
      "390/390 [==============================] - 112s 287ms/step - loss: 0.1508 - accuracy: 0.9481 - val_loss: 0.3398 - val_accuracy: 0.9005\n",
      "Epoch 5/10\n",
      "390/390 [==============================] - 110s 283ms/step - loss: 0.1464 - accuracy: 0.9482 - val_loss: 0.3400 - val_accuracy: 0.9002\n",
      "Epoch 6/10\n",
      "390/390 [==============================] - 112s 288ms/step - loss: 0.1506 - accuracy: 0.9477 - val_loss: 0.3434 - val_accuracy: 0.8999\n",
      "Epoch 7/10\n",
      "390/390 [==============================] - 109s 280ms/step - loss: 0.1479 - accuracy: 0.9475 - val_loss: 0.3406 - val_accuracy: 0.8999\n",
      "Epoch 8/10\n",
      "390/390 [==============================] - 109s 280ms/step - loss: 0.1476 - accuracy: 0.9479 - val_loss: 0.3425 - val_accuracy: 0.8997\n",
      "Epoch 9/10\n",
      "390/390 [==============================] - 109s 280ms/step - loss: 0.1484 - accuracy: 0.9467 - val_loss: 0.3421 - val_accuracy: 0.8995\n",
      "Epoch 10/10\n",
      "390/390 [==============================] - 111s 284ms/step - loss: 0.1478 - accuracy: 0.9488 - val_loss: 0.3413 - val_accuracy: 0.8997\n"
     ]
    },
    {
     "data": {
      "text/plain": [
       "<tensorflow.python.keras.callbacks.History at 0x7f8577e4a4d0>"
      ]
     },
     "execution_count": 21,
     "metadata": {
      "tags": []
     },
     "output_type": "execute_result"
    }
   ],
   "source": [
    "model.load_weights('best_weights_epoch205.h5')\n",
    "\n",
    "path = 'best_weights_epoch215.h5'\n",
    "checkpoint = keras.callbacks.ModelCheckpoint(\n",
    "    filepath=path,\n",
    "    monitor='val_accuracy',\n",
    "    mode='max',\n",
    "    save_best_only=True)\n",
    "\n",
    "model.compile(loss='categorical_crossentropy', optimizer=SGD(momentum=0.6,learning_rate=0.001),\n",
    "              metrics=['accuracy'])\n",
    "model.fit_generator(datagen.flow(X_train, y_train, batch_size), \n",
    "                    steps_per_epoch = X_train.shape[0]//batch_size, \n",
    "                    epochs = 10, validation_data =(X_test, y_test), callbacks = [checkpoint])"
   ]
  },
  {
   "cell_type": "code",
   "execution_count": 33,
   "metadata": {
    "colab": {
     "base_uri": "https://localhost:8080/"
    },
    "id": "fwh-Ba2pYgJ-",
    "outputId": "0eff8bc7-0590-47bb-f39e-e968af5fca57"
   },
   "outputs": [
    {
     "name": "stderr",
     "output_type": "stream",
     "text": [
      "/usr/local/lib/python3.7/dist-packages/tensorflow/python/keras/engine/training.py:1940: UserWarning: `Model.fit_generator` is deprecated and will be removed in a future version. Please use `Model.fit`, which supports generators.\n",
      "  warnings.warn('`Model.fit_generator` is deprecated and '\n"
     ]
    },
    {
     "name": "stdout",
     "output_type": "stream",
     "text": [
      "Epoch 1/10\n",
      "390/390 [==============================] - 158s 302ms/step - loss: 0.1525 - accuracy: 0.9464 - val_loss: 0.3418 - val_accuracy: 0.8997\n",
      "Epoch 2/10\n",
      "390/390 [==============================] - 112s 287ms/step - loss: 0.1480 - accuracy: 0.9478 - val_loss: 0.3422 - val_accuracy: 0.8995\n",
      "Epoch 3/10\n",
      "390/390 [==============================] - 112s 286ms/step - loss: 0.1490 - accuracy: 0.9479 - val_loss: 0.3419 - val_accuracy: 0.8997\n",
      "Epoch 4/10\n",
      "390/390 [==============================] - 112s 287ms/step - loss: 0.1480 - accuracy: 0.9484 - val_loss: 0.3413 - val_accuracy: 0.9009\n",
      "Epoch 5/10\n",
      "390/390 [==============================] - 112s 286ms/step - loss: 0.1488 - accuracy: 0.9481 - val_loss: 0.3405 - val_accuracy: 0.9009\n",
      "Epoch 6/10\n",
      "390/390 [==============================] - 112s 286ms/step - loss: 0.1487 - accuracy: 0.9476 - val_loss: 0.3414 - val_accuracy: 0.8996\n",
      "Epoch 7/10\n",
      "390/390 [==============================] - 111s 286ms/step - loss: 0.1461 - accuracy: 0.9488 - val_loss: 0.3421 - val_accuracy: 0.8998\n",
      "Epoch 8/10\n",
      "390/390 [==============================] - 112s 286ms/step - loss: 0.1444 - accuracy: 0.9498 - val_loss: 0.3410 - val_accuracy: 0.9006\n",
      "Epoch 9/10\n",
      "390/390 [==============================] - 111s 286ms/step - loss: 0.1465 - accuracy: 0.9492 - val_loss: 0.3383 - val_accuracy: 0.9012\n",
      "Epoch 10/10\n",
      "390/390 [==============================] - 114s 291ms/step - loss: 0.1496 - accuracy: 0.9467 - val_loss: 0.3405 - val_accuracy: 0.9009\n"
     ]
    },
    {
     "data": {
      "text/plain": [
       "<tensorflow.python.keras.callbacks.History at 0x7fbe28df7c50>"
      ]
     },
     "execution_count": 33,
     "metadata": {
      "tags": []
     },
     "output_type": "execute_result"
    }
   ],
   "source": [
    "model.load_weights('best_weights_epoch215.h5')\n",
    "# model.optimizer = SGD()\n",
    "# keras.backend.set_value(model.optimizer.momentum, 0.7)\n",
    "# keras.backend.set_value(model.optimizer.lr, 0.001)\n",
    "\n",
    "path = 'best_weights_epoch225.h5'\n",
    "checkpoint = keras.callbacks.ModelCheckpoint(\n",
    "    filepath=path,\n",
    "    monitor='val_accuracy',\n",
    "    mode='max',\n",
    "    save_best_only=True)\n",
    "\n",
    "model.compile(loss='categorical_crossentropy', optimizer=SGD(momentum=0.6,learning_rate=0.001),\n",
    "              metrics=['accuracy'])\n",
    "model.fit_generator(datagen.flow(X_train, y_train, batch_size), \n",
    "                    steps_per_epoch = X_train.shape[0]//batch_size, \n",
    "                    epochs = 10, validation_data =(X_test, y_test), callbacks = [checkpoint])"
   ]
  },
  {
   "cell_type": "code",
   "execution_count": 34,
   "metadata": {
    "colab": {
     "base_uri": "https://localhost:8080/"
    },
    "id": "7PZ1KLhbYgDo",
    "outputId": "046c9e69-6857-4979-d965-65f2ffe7d9b1"
   },
   "outputs": [
    {
     "name": "stdout",
     "output_type": "stream",
     "text": [
      "313/313 [==============================] - 8s 26ms/step - loss: 0.3405 - accuracy: 0.9009\n",
      "Test loss: 0.340536504983902\n",
      "Test accuracy: 0.9009000062942505\n"
     ]
    }
   ],
   "source": [
    "# Test the model\n",
    "score = model.evaluate(X_test, y_test, verbose=1)\n",
    "print('Test loss:', score[0])\n",
    "print('Test accuracy:', score[1])"
   ]
  },
  {
   "cell_type": "code",
   "execution_count": null,
   "metadata": {
    "id": "7m1wkfYoYgBU"
   },
   "outputs": [],
   "source": []
  },
  {
   "cell_type": "code",
   "execution_count": null,
   "metadata": {
    "colab": {
     "base_uri": "https://localhost:8080/"
    },
    "id": "GGw73z1rvRUE",
    "outputId": "d1094e36-6fee-4e8a-85c9-0494a27db801"
   },
   "outputs": [
    {
     "name": "stdout",
     "output_type": "stream",
     "text": [
      "Saved model to disk\n"
     ]
    }
   ],
   "source": [
    "# Save the trained weights in to .h5 formath\n",
    "# model.save_weights(\"DNST_model_100epochs.h6\") \n",
    "# print(\"Saved model to disk\")"
   ]
  },
  {
   "cell_type": "markdown",
   "metadata": {
    "id": "1IOcdNoRk8S0"
   },
   "source": [
    "#### After training with 215 epochs we could get val-accuracy of 0.9009"
   ]
  },
  {
   "cell_type": "code",
   "execution_count": null,
   "metadata": {
    "id": "kHoZaM9-k8S0"
   },
   "outputs": [],
   "source": []
  }
 ],
 "metadata": {
  "accelerator": "GPU",
  "colab": {
   "collapsed_sections": [],
   "name": "DenseNet_cifar10.ipynb",
   "provenance": []
  },
  "kernelspec": {
   "display_name": "Python 3",
   "language": "python",
   "name": "python3"
  },
  "language_info": {
   "codemirror_mode": {
    "name": "ipython",
    "version": 3
   },
   "file_extension": ".py",
   "mimetype": "text/x-python",
   "name": "python",
   "nbconvert_exporter": "python",
   "pygments_lexer": "ipython3",
   "version": "3.6.10"
  }
 },
 "nbformat": 4,
 "nbformat_minor": 1
}
